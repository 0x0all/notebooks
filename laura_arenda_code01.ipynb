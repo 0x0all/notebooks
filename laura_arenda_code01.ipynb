{

 "metadata": {

  "name": "",

  "signature": "sha256:412dd4c8414ddc790ce8d1ec760e59ad3f9a59449e07c8f3003ac7070160afb3"

 },

 "nbformat": 3,

 "nbformat_minor": 0,

 "worksheets": [

  {

   "cells": [

    {

     "cell_type": "code",

     "collapsed": false,

     "input": [

      "import pandas as pd\n",

      "import numpy as np\n",

      "import pylab as pl\n",

      "import matplotlib as mpl\n",

      "%matplotlib inline\n",

      "%pylab inline"

     ],

     "language": "python",

     "metadata": {},

     "outputs": [

      {

       "output_type": "stream",

       "stream": "stdout",

       "text": [

        "Populating the interactive namespace from numpy and matplotlib\n"

       ]

      }

     ],

     "prompt_number": 1

    },

    {

     "cell_type": "code",

     "collapsed": false,

     "input": [

      "# \u0437\u0430\u0433\u0440\u0443\u0437\u043a\u0430 \u0434\u0430\u043d\u043d\u044b\u0445\n",

      "# data = pd.read_csv('D:\\\\Competitions\\\\Laura\\\\arenda.csv', sep=';', decimal=',')\n",

      "data = pd.read_excel('D:\\\\Competitions\\\\Laura\\\\arenda.xlsx')\n",

      "data[:3]"

     ],

     "language": "python",

     "metadata": {},

     "outputs": [

      {

       "html": [

        "<div style=\"max-height:1000px;max-width:1500px;overflow:auto;\">\n",

        "<table border=\"1\" class=\"dataframe\">\n",

        "  <thead>\n",

        "    <tr style=\"text-align: right;\">\n",

        "      <th></th>\n",

        "      <th>id</th>\n",

        "      <th>Space Size</th>\n",

        "      <th>Price / SF / Month</th>\n",

        "      <th>Space Type: </th>\n",

        "      <th>Lease Type: </th>\n",

        "      <th>Number of transport spots</th>\n",

        "      <th>Population</th>\n",

        "      <th>Population change 2013-2010</th>\n",

        "      <th>Land area</th>\n",

        "      <th>Density of people living in area</th>\n",

        "      <th>...</th>\n",

        "      <th>Household size</th>\n",

        "      <th>Average HH income 2013</th>\n",

        "      <th>Income change 2013-2010</th>\n",

        "      <th>Change in % of bachelor degrees 2013-2010</th>\n",

        "      <th>Average salary of employees ($ 000s)</th>\n",

        "      <th>Average salary of employees in new businesses</th>\n",

        "      <th>% of employees in new companies vs all</th>\n",

        "      <th>Number of new retail places 2013-2010</th>\n",

        "      <th>list id</th>\n",

        "      <th>list</th>\n",

        "    </tr>\n",

        "  </thead>\n",

        "  <tbody>\n",

        "    <tr>\n",

        "      <th>0</th>\n",

        "      <td> 1</td>\n",

        "      <td> 11324</td>\n",

        "      <td> 2.649241</td>\n",

        "      <td> NaN</td>\n",

        "      <td> NaN</td>\n",

        "      <td> 14</td>\n",

        "      <td> 6417.318254</td>\n",

        "      <td> 0.104498</td>\n",

        "      <td> 780786.644395</td>\n",

        "      <td> 0.008219</td>\n",

        "      <td>...</td>\n",

        "      <td> 2.811673</td>\n",

        "      <td> 64039</td>\n",

        "      <td> 0.008973</td>\n",

        "      <td> 0.034373</td>\n",

        "      <td> 43000</td>\n",

        "      <td> 42220.615385</td>\n",

        "      <td> 12</td>\n",

        "      <td> 5</td>\n",

        "      <td> 239</td>\n",

        "      <td> ln</td>\n",

        "    </tr>\n",

        "    <tr>\n",

        "      <th>1</th>\n",

        "      <td> 2</td>\n",

        "      <td>  2275</td>\n",

        "      <td> 1.583333</td>\n",

        "      <td> NaN</td>\n",

        "      <td> NaN</td>\n",

        "      <td> 22</td>\n",

        "      <td> 3902.848712</td>\n",

        "      <td> 0.041712</td>\n",

        "      <td> 646901.202888</td>\n",

        "      <td> 0.006033</td>\n",

        "      <td>...</td>\n",

        "      <td> 2.786308</td>\n",

        "      <td> 77802</td>\n",

        "      <td>-0.069537</td>\n",

        "      <td>-0.001562</td>\n",

        "      <td> 30000</td>\n",

        "      <td> 36709.000000</td>\n",

        "      <td> 12</td>\n",

        "      <td> 2</td>\n",

        "      <td> 388</td>\n",

        "      <td> ln</td>\n",

        "    </tr>\n",

        "    <tr>\n",

        "      <th>2</th>\n",

        "      <td> 3</td>\n",

        "      <td>  2275</td>\n",

        "      <td> 1.583333</td>\n",

        "      <td> NaN</td>\n",

        "      <td> NaN</td>\n",

        "      <td> 22</td>\n",

        "      <td> 3902.848712</td>\n",

        "      <td> 0.041712</td>\n",

        "      <td> 646901.202888</td>\n",

        "      <td> 0.006033</td>\n",

        "      <td>...</td>\n",

        "      <td> 2.786308</td>\n",

        "      <td> 77802</td>\n",

        "      <td>-0.069537</td>\n",

        "      <td>-0.001562</td>\n",

        "      <td> 30000</td>\n",

        "      <td> 36709.000000</td>\n",

        "      <td> 12</td>\n",

        "      <td> 2</td>\n",

        "      <td> 389</td>\n",

        "      <td> ln</td>\n",

        "    </tr>\n",

        "  </tbody>\n",

        "</table>\n",

        "<p>3 rows \u00d7 23 columns</p>\n",

        "</div>"

       ],

       "metadata": {},

       "output_type": "pyout",

       "prompt_number": 7,

       "text": [

        "   id  Space Size  Price / SF / Month Space Type:  Lease Type:   \\\n",

        "0   1       11324            2.649241          NaN          NaN   \n",

        "1   2        2275            1.583333          NaN          NaN   \n",

        "2   3        2275            1.583333          NaN          NaN   \n",

        "\n",

        "   Number of transport spots   Population  Population change 2013-2010  \\\n",

        "0                         14  6417.318254                     0.104498   \n",

        "1                         22  3902.848712                     0.041712   \n",

        "2                         22  3902.848712                     0.041712   \n",

        "\n",

        "       Land area  Density of people living in area  \\\n",

        "0  780786.644395                          0.008219   \n",

        "1  646901.202888                          0.006033   \n",

        "2  646901.202888                          0.006033   \n",

        "\n",

        "                 ...                 Household size  Average HH income 2013  \\\n",

        "0                ...                       2.811673                   64039   \n",

        "1                ...                       2.786308                   77802   \n",

        "2                ...                       2.786308                   77802   \n",

        "\n",

        "   Income change 2013-2010  Change in % of bachelor degrees 2013-2010  \\\n",

        "0                 0.008973                                   0.034373   \n",

        "1                -0.069537                                  -0.001562   \n",

        "2                -0.069537                                  -0.001562   \n",

        "\n",

        "   Average salary of employees ($ 000s)  \\\n",

        "0                                 43000   \n",

        "1                                 30000   \n",

        "2                                 30000   \n",

        "\n",

        "   Average salary of employees in new businesses  \\\n",

        "0                                   42220.615385   \n",

        "1                                   36709.000000   \n",

        "2                                   36709.000000   \n",

        "\n",

        "   % of employees in new companies vs all  \\\n",

        "0                                      12   \n",

        "1                                      12   \n",

        "2                                      12   \n",

        "\n",

        "   Number of new retail places 2013-2010  list id  list  \n",

        "0                                      5      239    ln  \n",

        "1                                      2      388    ln  \n",

        "2                                      2      389    ln  \n",

        "\n",

        "[3 rows x 23 columns]"

       ]

      }

     ],

     "prompt_number": 7

    },

    {

     "cell_type": "code",

     "collapsed": false,

     "input": [

      "data.columns"

     ],

     "language": "python",

     "metadata": {},

     "outputs": [

      {

       "metadata": {},

       "output_type": "pyout",

       "prompt_number": 5,

       "text": [

        "Index([u'id', u'Space Size', u'Price / SF / Month', u'Space Type: ', u'Lease Type: ', u'Number of transport spots', u'Population', u'Population change 2013-2010', u'Land area', u'Density of people living in area', u'Density of people working in area (based on lat/lon)', u'Total density (living + working)', u'Social chat score', u'Household size', u'Average HH income 2013', u'Income change 2013-2010', u'Change in % of bachelor degrees 2013-2010', u'Average salary of employees ($ 000s)', u'Average salary of employees in new businesses', u'% of employees in new companies vs all', u'Number of new retail places 2013-2010', u'list id', u'list'], dtype='object')"

       ]

      }

     ],

     "prompt_number": 5

    },

    {

     "cell_type": "code",

     "collapsed": false,

     "input": [

      "# \u0443\u0434\u0430\u043b\u0438\u0442\u044c id\n",

      "del data['id']\n",

      "\n",

      "# \u043f\u0435\u0440\u0435\u0438\u043c\u0435\u043d\u043e\u0432\u0430\u0442\u044c \u043d\u0430\u0437\u0432\u0430\u043d\u0438\u044f \u043f\u0440\u0438\u0437\u043d\u0430\u043a\u043e\u0432\n",

      "data = data.rename(columns={\n",

      "u'Space Size':'spacesize',\n",

      "u'Price / SF / Month':'price',\n",

      "u'Space Type: ':'spacetype',\n",

      "u'Lease Type: ':'leasetype',\n",

      "u'Number of transport spots':'nspots',\n",

      "u'Population':'pop', \n",

      "u'Population change 2013-2010':'popchange',\n",

      "u'Land area':'land',\n",

      "u'Density of people living in area':'densliv', \n",

      "u'Density of people working in area (based on lat/lon)':'denswork',\n",

      "u'Total density (living + working)':'denstotal',\n",

      "u'Social chat score':'chat', \n",

      "u'Household size':'hhsize',\n",

      "u'Average HH income 2013':'aincome',\n",

      "u'Income change 2013-2010':'incomechange',\n",

      "u'Change in % of bachelor degrees 2013-2010':'degrees',\n",

      "u'Average salary of employees ($ 000s)':'asalary',\n",

      "u'Average salary of employees in new businesses':'anewsalary', \n",

      "u'% of employees in new companies vs all':'employees',\n",

      "u'Number of new retail places 2013-2010':'retails',\n",

      "u'list id':'listid',\n",

      "u'list':'list'\n",

      "})\n",

      "data[:3]"

     ],

     "language": "python",

     "metadata": {},

     "outputs": [

      {

       "html": [

        "<div style=\"max-height:1000px;max-width:1500px;overflow:auto;\">\n",

        "<table border=\"1\" class=\"dataframe\">\n",

        "  <thead>\n",

        "    <tr style=\"text-align: right;\">\n",

        "      <th></th>\n",

        "      <th>spacesize</th>\n",

        "      <th>price</th>\n",

        "      <th>spacetype</th>\n",

        "      <th>leasetype</th>\n",

        "      <th>nspots</th>\n",

        "      <th>pop</th>\n",

        "      <th>popchange</th>\n",

        "      <th>land</th>\n",

        "      <th>densliv</th>\n",

        "      <th>denswork</th>\n",

        "      <th>...</th>\n",

        "      <th>hhsize</th>\n",

        "      <th>aincome</th>\n",

        "      <th>incomechange</th>\n",

        "      <th>degrees</th>\n",

        "      <th>asalary</th>\n",

        "      <th>anewsalary</th>\n",

        "      <th>employees</th>\n",

        "      <th>retails</th>\n",

        "      <th>listid</th>\n",

        "      <th>list</th>\n",

        "    </tr>\n",

        "  </thead>\n",

        "  <tbody>\n",

        "    <tr>\n",

        "      <th>0</th>\n",

        "      <td> 11324</td>\n",

        "      <td> 2.649241</td>\n",

        "      <td> NaN</td>\n",

        "      <td> NaN</td>\n",

        "      <td> 14</td>\n",

        "      <td> 6417.318254</td>\n",

        "      <td> 0.104498</td>\n",

        "      <td> 780786.644395</td>\n",

        "      <td> 0.008219</td>\n",

        "      <td> 0.001896</td>\n",

        "      <td>...</td>\n",

        "      <td> 2.811673</td>\n",

        "      <td> 64039</td>\n",

        "      <td> 0.008973</td>\n",

        "      <td> 0.034373</td>\n",

        "      <td> 43000</td>\n",

        "      <td> 42220.615385</td>\n",

        "      <td> 12</td>\n",

        "      <td> 5</td>\n",

        "      <td> 239</td>\n",

        "      <td> ln</td>\n",

        "    </tr>\n",

        "    <tr>\n",

        "      <th>1</th>\n",

        "      <td>  2275</td>\n",

        "      <td> 1.583333</td>\n",

        "      <td> NaN</td>\n",

        "      <td> NaN</td>\n",

        "      <td> 22</td>\n",

        "      <td> 3902.848712</td>\n",

        "      <td> 0.041712</td>\n",

        "      <td> 646901.202888</td>\n",

        "      <td> 0.006033</td>\n",

        "      <td> 0.002220</td>\n",

        "      <td>...</td>\n",

        "      <td> 2.786308</td>\n",

        "      <td> 77802</td>\n",

        "      <td>-0.069537</td>\n",

        "      <td>-0.001562</td>\n",

        "      <td> 30000</td>\n",

        "      <td> 36709.000000</td>\n",

        "      <td> 12</td>\n",

        "      <td> 2</td>\n",

        "      <td> 388</td>\n",

        "      <td> ln</td>\n",

        "    </tr>\n",

        "    <tr>\n",

        "      <th>2</th>\n",

        "      <td>  2275</td>\n",

        "      <td> 1.583333</td>\n",

        "      <td> NaN</td>\n",

        "      <td> NaN</td>\n",

        "      <td> 22</td>\n",

        "      <td> 3902.848712</td>\n",

        "      <td> 0.041712</td>\n",

        "      <td> 646901.202888</td>\n",

        "      <td> 0.006033</td>\n",

        "      <td> 0.002220</td>\n",

        "      <td>...</td>\n",

        "      <td> 2.786308</td>\n",

        "      <td> 77802</td>\n",

        "      <td>-0.069537</td>\n",

        "      <td>-0.001562</td>\n",

        "      <td> 30000</td>\n",

        "      <td> 36709.000000</td>\n",

        "      <td> 12</td>\n",

        "      <td> 2</td>\n",

        "      <td> 389</td>\n",

        "      <td> ln</td>\n",

        "    </tr>\n",

        "  </tbody>\n",

        "</table>\n",

        "<p>3 rows \u00d7 22 columns</p>\n",

        "</div>"

       ],

       "metadata": {},

       "output_type": "pyout",

       "prompt_number": 8,

       "text": [

        "   spacesize     price spacetype leasetype  nspots          pop  popchange  \\\n",

        "0      11324  2.649241       NaN       NaN      14  6417.318254   0.104498   \n",

        "1       2275  1.583333       NaN       NaN      22  3902.848712   0.041712   \n",

        "2       2275  1.583333       NaN       NaN      22  3902.848712   0.041712   \n",

        "\n",

        "            land   densliv  denswork    ...       hhsize  aincome  \\\n",

        "0  780786.644395  0.008219  0.001896    ...     2.811673    64039   \n",

        "1  646901.202888  0.006033  0.002220    ...     2.786308    77802   \n",

        "2  646901.202888  0.006033  0.002220    ...     2.786308    77802   \n",

        "\n",

        "   incomechange   degrees  asalary    anewsalary  employees  retails  listid  \\\n",

        "0      0.008973  0.034373    43000  42220.615385         12        5     239   \n",

        "1     -0.069537 -0.001562    30000  36709.000000         12        2     388   \n",

        "2     -0.069537 -0.001562    30000  36709.000000         12        2     389   \n",

        "\n",

        "   list  \n",

        "0    ln  \n",

        "1    ln  \n",

        "2    ln  \n",

        "\n",

        "[3 rows x 22 columns]"

       ]

      }

     ],

     "prompt_number": 8

    },

    {

     "cell_type": "code",

     "collapsed": false,

     "input": [

      "# \u0432\u044b\u0432\u043e\u0434 \u0441\u0442\u0430\u0442\u0438\u0441\u0442\u0438\u043a\u0438\n",

      "data.describe()"

     ],

     "language": "python",

     "metadata": {},

     "outputs": [

      {

       "html": [

        "<div style=\"max-height:1000px;max-width:1500px;overflow:auto;\">\n",

        "<table border=\"1\" class=\"dataframe\">\n",

        "  <thead>\n",

        "    <tr style=\"text-align: right;\">\n",

        "      <th></th>\n",

        "      <th>spacesize</th>\n",

        "      <th>price</th>\n",

        "      <th>nspots</th>\n",

        "      <th>pop</th>\n",

        "      <th>popchange</th>\n",

        "      <th>land</th>\n",

        "      <th>densliv</th>\n",

        "      <th>denswork</th>\n",

        "      <th>denstotal</th>\n",

        "      <th>chat</th>\n",

        "      <th>hhsize</th>\n",

        "      <th>aincome</th>\n",

        "      <th>incomechange</th>\n",

        "      <th>degrees</th>\n",

        "      <th>asalary</th>\n",

        "      <th>anewsalary</th>\n",

        "      <th>employees</th>\n",

        "      <th>retails</th>\n",

        "      <th>listid</th>\n",

        "    </tr>\n",

        "  </thead>\n",

        "  <tbody>\n",

        "    <tr>\n",

        "      <th>count</th>\n",

        "      <td>   2227.000000</td>\n",

        "      <td> 2227.000000</td>\n",

        "      <td> 2227.000000</td>\n",

        "      <td>  2227.000000</td>\n",

        "      <td> 2227.000000</td>\n",

        "      <td>   2227.000000</td>\n",

        "      <td> 2227.000000</td>\n",

        "      <td> 2227.000000</td>\n",

        "      <td> 2227.000000</td>\n",

        "      <td> 2227.000000</td>\n",

        "      <td> 2227.000000</td>\n",

        "      <td>   2227.00000</td>\n",

        "      <td> 2227.000000</td>\n",

        "      <td> 2227.000000</td>\n",

        "      <td>   2227.000000</td>\n",

        "      <td>   2227.000000</td>\n",

        "      <td> 2227.000000</td>\n",

        "      <td> 2227.000000</td>\n",

        "      <td> 2227.000000</td>\n",

        "    </tr>\n",

        "    <tr>\n",

        "      <th>mean</th>\n",

        "      <td>   3884.932645</td>\n",

        "      <td>    6.224143</td>\n",

        "      <td>   29.325101</td>\n",

        "      <td> 15833.326788</td>\n",

        "      <td>    0.010618</td>\n",

        "      <td> 744267.272294</td>\n",

        "      <td>    0.021292</td>\n",

        "      <td>    0.025608</td>\n",

        "      <td>    0.046900</td>\n",

        "      <td>   36.495285</td>\n",

        "      <td>    2.513140</td>\n",

        "      <td>  63835.55366</td>\n",

        "      <td>    0.097281</td>\n",

        "      <td>    0.011870</td>\n",

        "      <td>  46687.471935</td>\n",

        "      <td>  39536.089718</td>\n",

        "      <td>   24.637180</td>\n",

        "      <td>   34.376291</td>\n",

        "      <td>  612.130669</td>\n",

        "    </tr>\n",

        "    <tr>\n",

        "      <th>std</th>\n",

        "      <td>  16311.985235</td>\n",

        "      <td>    6.582278</td>\n",

        "      <td>   14.658322</td>\n",

        "      <td>  8681.890404</td>\n",

        "      <td>    0.055430</td>\n",

        "      <td>  74177.247168</td>\n",

        "      <td>    0.011673</td>\n",

        "      <td>    0.051450</td>\n",

        "      <td>    0.053700</td>\n",

        "      <td>   68.069988</td>\n",

        "      <td>    0.532757</td>\n",

        "      <td>  31651.81757</td>\n",

        "      <td>    0.103458</td>\n",

        "      <td>    0.023377</td>\n",

        "      <td>  15010.874771</td>\n",

        "      <td>  12852.903269</td>\n",

        "      <td>    8.480855</td>\n",

        "      <td>   36.063391</td>\n",

        "      <td>  337.293657</td>\n",

        "    </tr>\n",

        "    <tr>\n",

        "      <th>min</th>\n",

        "      <td>      1.000000</td>\n",

        "      <td>    0.000192</td>\n",

        "      <td>    0.000000</td>\n",

        "      <td>   114.945126</td>\n",

        "      <td>   -0.141048</td>\n",

        "      <td> 198188.986853</td>\n",

        "      <td>    0.000199</td>\n",

        "      <td>    0.000000</td>\n",

        "      <td>    0.000249</td>\n",

        "      <td>    0.000000</td>\n",

        "      <td>    1.510175</td>\n",

        "      <td>  17479.00000</td>\n",

        "      <td>   -0.253104</td>\n",

        "      <td>   -0.087200</td>\n",

        "      <td>      0.000000</td>\n",

        "      <td>      0.000000</td>\n",

        "      <td>    0.000000</td>\n",

        "      <td>    0.000000</td>\n",

        "      <td>    1.000000</td>\n",

        "    </tr>\n",

        "    <tr>\n",

        "      <th>25%</th>\n",

        "      <td>   1000.000000</td>\n",

        "      <td>    2.666663</td>\n",

        "      <td>   19.000000</td>\n",

        "      <td>  9712.109647</td>\n",

        "      <td>   -0.028305</td>\n",

        "      <td> 741991.143918</td>\n",

        "      <td>    0.013105</td>\n",

        "      <td>    0.004082</td>\n",

        "      <td>    0.019105</td>\n",

        "      <td>    5.000000</td>\n",

        "      <td>    2.086396</td>\n",

        "      <td>  40051.00000</td>\n",

        "      <td>    0.031163</td>\n",

        "      <td>   -0.002626</td>\n",

        "      <td>  36000.000000</td>\n",

        "      <td>  30269.422362</td>\n",

        "      <td>   20.000000</td>\n",

        "      <td>   10.000000</td>\n",

        "      <td>  319.500000</td>\n",

        "    </tr>\n",

        "    <tr>\n",

        "      <th>50%</th>\n",

        "      <td>   1700.000000</td>\n",

        "      <td>    4.166666</td>\n",

        "      <td>   29.000000</td>\n",

        "      <td> 15645.946460</td>\n",

        "      <td>    0.008172</td>\n",

        "      <td> 780549.167952</td>\n",

        "      <td>    0.020760</td>\n",

        "      <td>    0.006939</td>\n",

        "      <td>    0.028993</td>\n",

        "      <td>   13.000000</td>\n",

        "      <td>    2.534359</td>\n",

        "      <td>  53145.00000</td>\n",

        "      <td>    0.093626</td>\n",

        "      <td>    0.011536</td>\n",

        "      <td>  41000.000000</td>\n",

        "      <td>  36652.400004</td>\n",

        "      <td>   24.000000</td>\n",

        "      <td>   21.000000</td>\n",

        "      <td>  615.000000</td>\n",

        "    </tr>\n",

        "    <tr>\n",

        "      <th>75%</th>\n",

        "      <td>   3400.000000</td>\n",

        "      <td>    7.343137</td>\n",

        "      <td>   38.000000</td>\n",

        "      <td> 21584.540555</td>\n",

        "      <td>    0.044095</td>\n",

        "      <td> 780832.018612</td>\n",

        "      <td>    0.028699</td>\n",

        "      <td>    0.020631</td>\n",

        "      <td>    0.051848</td>\n",

        "      <td>   42.000000</td>\n",

        "      <td>    2.894399</td>\n",

        "      <td>  88869.50000</td>\n",

        "      <td>    0.163718</td>\n",

        "      <td>    0.027190</td>\n",

        "      <td>  53000.000000</td>\n",

        "      <td>  46223.310708</td>\n",

        "      <td>   29.000000</td>\n",

        "      <td>   42.000000</td>\n",

        "      <td>  902.000000</td>\n",

        "    </tr>\n",

        "    <tr>\n",

        "      <th>max</th>\n",

        "      <td> 600000.000000</td>\n",

        "      <td>   83.414634</td>\n",

        "      <td>   78.000000</td>\n",

        "      <td> 46664.838451</td>\n",

        "      <td>    0.313075</td>\n",

        "      <td> 780856.610853</td>\n",

        "      <td>    0.062810</td>\n",

        "      <td>    0.350893</td>\n",

        "      <td>    0.369600</td>\n",

        "      <td>  988.000000</td>\n",

        "      <td>    4.559108</td>\n",

        "      <td> 202295.00000</td>\n",

        "      <td>    0.429361</td>\n",

        "      <td>    0.102018</td>\n",

        "      <td> 106000.000000</td>\n",

        "      <td> 115360.037590</td>\n",

        "      <td>   84.000000</td>\n",

        "      <td>  184.000000</td>\n",

        "      <td> 1217.000000</td>\n",

        "    </tr>\n",

        "  </tbody>\n",

        "</table>\n",

        "</div>"

       ],

       "metadata": {},

       "output_type": "pyout",

       "prompt_number": 10,

       "text": [

        "           spacesize        price       nspots           pop    popchange  \\\n",

        "count    2227.000000  2227.000000  2227.000000   2227.000000  2227.000000   \n",

        "mean     3884.932645     6.224143    29.325101  15833.326788     0.010618   \n",

        "std     16311.985235     6.582278    14.658322   8681.890404     0.055430   \n",

        "min         1.000000     0.000192     0.000000    114.945126    -0.141048   \n",

        "25%      1000.000000     2.666663    19.000000   9712.109647    -0.028305   \n",

        "50%      1700.000000     4.166666    29.000000  15645.946460     0.008172   \n",

        "75%      3400.000000     7.343137    38.000000  21584.540555     0.044095   \n",

        "max    600000.000000    83.414634    78.000000  46664.838451     0.313075   \n",

        "\n",

        "                land      densliv     denswork    denstotal         chat  \\\n",

        "count    2227.000000  2227.000000  2227.000000  2227.000000  2227.000000   \n",

        "mean   744267.272294     0.021292     0.025608     0.046900    36.495285   \n",

        "std     74177.247168     0.011673     0.051450     0.053700    68.069988   \n",

        "min    198188.986853     0.000199     0.000000     0.000249     0.000000   \n",

        "25%    741991.143918     0.013105     0.004082     0.019105     5.000000   \n",

        "50%    780549.167952     0.020760     0.006939     0.028993    13.000000   \n",

        "75%    780832.018612     0.028699     0.020631     0.051848    42.000000   \n",

        "max    780856.610853     0.062810     0.350893     0.369600   988.000000   \n",

        "\n",

        "            hhsize       aincome  incomechange      degrees        asalary  \\\n",

        "count  2227.000000    2227.00000   2227.000000  2227.000000    2227.000000   \n",

        "mean      2.513140   63835.55366      0.097281     0.011870   46687.471935   \n",

        "std       0.532757   31651.81757      0.103458     0.023377   15010.874771   \n",

        "min       1.510175   17479.00000     -0.253104    -0.087200       0.000000   \n",

        "25%       2.086396   40051.00000      0.031163    -0.002626   36000.000000   \n",

        "50%       2.534359   53145.00000      0.093626     0.011536   41000.000000   \n",

        "75%       2.894399   88869.50000      0.163718     0.027190   53000.000000   \n",

        "max       4.559108  202295.00000      0.429361     0.102018  106000.000000   \n",

        "\n",

        "          anewsalary    employees      retails       listid  \n",

        "count    2227.000000  2227.000000  2227.000000  2227.000000  \n",

        "mean    39536.089718    24.637180    34.376291   612.130669  \n",

        "std     12852.903269     8.480855    36.063391   337.293657  \n",

        "min         0.000000     0.000000     0.000000     1.000000  \n",

        "25%     30269.422362    20.000000    10.000000   319.500000  \n",

        "50%     36652.400004    24.000000    21.000000   615.000000  \n",

        "75%     46223.310708    29.000000    42.000000   902.000000  \n",

        "max    115360.037590    84.000000   184.000000  1217.000000  "

       ]

      }

     ],

     "prompt_number": 10

    },

    {

     "cell_type": "code",

     "collapsed": false,

     "input": [

      "# \u0443\u0431\u0440\u0430\u0442\u044c \u041d\u0430\u041d\u044b\n",

      "# \u0442\u0443\u0442 \u043e\u043d\u0438 \u0432\u0441\u0435 \u0432 \u0441\u0442\u0440\u043e\u0447\u043a\u0430\u0445!!!\n",

      "data = data.fillna('net')\n",

      "data[:3]"

     ],

     "language": "python",

     "metadata": {},

     "outputs": [

      {

       "html": [

        "<div style=\"max-height:1000px;max-width:1500px;overflow:auto;\">\n",

        "<table border=\"1\" class=\"dataframe\">\n",

        "  <thead>\n",

        "    <tr style=\"text-align: right;\">\n",

        "      <th></th>\n",

        "      <th>spacesize</th>\n",

        "      <th>price</th>\n",

        "      <th>spacetype</th>\n",

        "      <th>leasetype</th>\n",

        "      <th>nspots</th>\n",

        "      <th>pop</th>\n",

        "      <th>popchange</th>\n",

        "      <th>land</th>\n",

        "      <th>densliv</th>\n",

        "      <th>denswork</th>\n",

        "      <th>...</th>\n",

        "      <th>hhsize</th>\n",

        "      <th>aincome</th>\n",

        "      <th>incomechange</th>\n",

        "      <th>degrees</th>\n",

        "      <th>asalary</th>\n",

        "      <th>anewsalary</th>\n",

        "      <th>employees</th>\n",

        "      <th>retails</th>\n",

        "      <th>listid</th>\n",

        "      <th>list</th>\n",

        "    </tr>\n",

        "  </thead>\n",

        "  <tbody>\n",

        "    <tr>\n",

        "      <th>0</th>\n",

        "      <td> 11324</td>\n",

        "      <td> 2.649241</td>\n",

        "      <td> net</td>\n",

        "      <td> net</td>\n",

        "      <td> 14</td>\n",

        "      <td> 6417.318254</td>\n",

        "      <td> 0.104498</td>\n",

        "      <td> 780786.644395</td>\n",

        "      <td> 0.008219</td>\n",

        "      <td> 0.001896</td>\n",

        "      <td>...</td>\n",

        "      <td> 2.811673</td>\n",

        "      <td> 64039</td>\n",

        "      <td> 0.008973</td>\n",

        "      <td> 0.034373</td>\n",

        "      <td> 43000</td>\n",

        "      <td> 42220.615385</td>\n",

        "      <td> 12</td>\n",

        "      <td> 5</td>\n",

        "      <td> 239</td>\n",

        "      <td> ln</td>\n",

        "    </tr>\n",

        "    <tr>\n",

        "      <th>1</th>\n",

        "      <td>  2275</td>\n",

        "      <td> 1.583333</td>\n",

        "      <td> net</td>\n",

        "      <td> net</td>\n",

        "      <td> 22</td>\n",

        "      <td> 3902.848712</td>\n",

        "      <td> 0.041712</td>\n",

        "      <td> 646901.202888</td>\n",

        "      <td> 0.006033</td>\n",

        "      <td> 0.002220</td>\n",

        "      <td>...</td>\n",

        "      <td> 2.786308</td>\n",

        "      <td> 77802</td>\n",

        "      <td>-0.069537</td>\n",

        "      <td>-0.001562</td>\n",

        "      <td> 30000</td>\n",

        "      <td> 36709.000000</td>\n",

        "      <td> 12</td>\n",

        "      <td> 2</td>\n",

        "      <td> 388</td>\n",

        "      <td> ln</td>\n",

        "    </tr>\n",

        "    <tr>\n",

        "      <th>2</th>\n",

        "      <td>  2275</td>\n",

        "      <td> 1.583333</td>\n",

        "      <td> net</td>\n",

        "      <td> net</td>\n",

        "      <td> 22</td>\n",

        "      <td> 3902.848712</td>\n",

        "      <td> 0.041712</td>\n",

        "      <td> 646901.202888</td>\n",

        "      <td> 0.006033</td>\n",

        "      <td> 0.002220</td>\n",

        "      <td>...</td>\n",

        "      <td> 2.786308</td>\n",

        "      <td> 77802</td>\n",

        "      <td>-0.069537</td>\n",

        "      <td>-0.001562</td>\n",

        "      <td> 30000</td>\n",

        "      <td> 36709.000000</td>\n",

        "      <td> 12</td>\n",

        "      <td> 2</td>\n",

        "      <td> 389</td>\n",

        "      <td> ln</td>\n",

        "    </tr>\n",

        "  </tbody>\n",

        "</table>\n",

        "<p>3 rows \u00d7 22 columns</p>\n",

        "</div>"

       ],

       "metadata": {},

       "output_type": "pyout",

       "prompt_number": 11,

       "text": [

        "   spacesize     price spacetype leasetype  nspots          pop  popchange  \\\n",

        "0      11324  2.649241       net       net      14  6417.318254   0.104498   \n",

        "1       2275  1.583333       net       net      22  3902.848712   0.041712   \n",

        "2       2275  1.583333       net       net      22  3902.848712   0.041712   \n",

        "\n",

        "            land   densliv  denswork    ...       hhsize  aincome  \\\n",

        "0  780786.644395  0.008219  0.001896    ...     2.811673    64039   \n",

        "1  646901.202888  0.006033  0.002220    ...     2.786308    77802   \n",

        "2  646901.202888  0.006033  0.002220    ...     2.786308    77802   \n",

        "\n",

        "   incomechange   degrees  asalary    anewsalary  employees  retails  listid  \\\n",

        "0      0.008973  0.034373    43000  42220.615385         12        5     239   \n",

        "1     -0.069537 -0.001562    30000  36709.000000         12        2     388   \n",

        "2     -0.069537 -0.001562    30000  36709.000000         12        2     389   \n",

        "\n",

        "   list  \n",

        "0    ln  \n",

        "1    ln  \n",

        "2    ln  \n",

        "\n",

        "[3 rows x 22 columns]"

       ]

      }

     ],

     "prompt_number": 11

    },

    {

     "cell_type": "code",

     "collapsed": false,

     "input": [

      "# \u0447\u0438\u0441\u043b\u043e \u0443\u043d\u0438\u043a\u0430\u043b\u044c\u043d\u044b\u0445 \u0437\u043d\u0430\u0447\u0435\u043d\u0438\u0439 \u043f\u043e \u0441\u0442\u043e\u043b\u0431\u0446\u0430\u043c\n",

      "# \u043f\u0440\u0430\u0432\u0434\u0430... \u043f\u0440\u043e\u0431\u043b\u0435\u043c\u044b \u0441 \u041d\u0430\u041d\u0430\u043c\u0438\n",

      "lengths = []\n",

      "for i in xrange(data.shape[1]):\n",

      "    lengths.append(data[data.columns[i]].unique().__len__())\n",

      "pyplot.bar(np.arange(data.shape[1]), lengths)\n",

      "# \u0440\u0430\u0437\u043c\u0435\u0440\u044b\n",

      "data.shape"

     ],

     "language": "python",

     "metadata": {},

     "outputs": [

      {

       "metadata": {},

       "output_type": "pyout",

       "prompt_number": 12,

       "text": [

        "(2227, 22)"

       ]

      },

      {

       "metadata": {},

       "output_type": "display_data",

       "png": "[encoded data removed]",

       "text": [

        "<matplotlib.figure.Figure at 0xc383a20>"

       ]

      }

     ],

     "prompt_number": 12

    },

    {

     "cell_type": "code",

     "collapsed": false,

     "input": [

      "# \u0430\u043d\u0430\u043b\u0438\u0437 \u043f\u0440\u0438\u0437\u043d\u0430\u043a\u043e\u0432 \u0441 \u043c\u0430\u043b\u044b\u043c \u0447\u0438\u0441\u043b\u043e\u043c \u0437\u043d\u0430\u0447\u0435\u043d\u0438\u0439\n",

      "for i in xrange(data.shape[1]):\n",

      "    u = data[data.columns[i]].unique()\n",

      "    if u.__len__()<10:\n",

      "        print data.columns[i], u"

     ],

     "language": "python",

     "metadata": {},

     "outputs": [

      {

       "output_type": "stream",

       "stream": "stdout",

       "text": [

        "leasetype ['net' u'Full Service' u'Industrial Gross' u'Modified Gross'\n",

        " u'Modified Net' u'NNN' u'Other']\n",

        "list [u'ln' u'cf']\n"

       ]

      }

     ],

     "prompt_number": 13

    },

    {

     "cell_type": "code",

     "collapsed": false,

     "input": [

      "# \u0444\u0430\u043a\u0442\u043e\u0440\u044b \u0437\u0430\u043c\u0435\u043d\u0438\u0442\u044c \u043c\u043e\u0449\u043d\u043e\u0441\u0442\u044f\u043c\u0438 \u0432\u0445\u043e\u0436\u0434\u0435\u043d\u0438\u0439\n",

      "factorfeatures = ['spacetype', 'leasetype', 'list']\n",

      "for f in factorfeatures:\n",

      "    set = data.groupby(f).size()\n",

      "    data[f] = data[f].apply(lambda x: set[x])\n",

      "data[:3]"

     ],

     "language": "python",

     "metadata": {},

     "outputs": [

      {

       "html": [

        "<div style=\"max-height:1000px;max-width:1500px;overflow:auto;\">\n",

        "<table border=\"1\" class=\"dataframe\">\n",

        "  <thead>\n",

        "    <tr style=\"text-align: right;\">\n",

        "      <th></th>\n",

        "      <th>spacesize</th>\n",

        "      <th>price</th>\n",

        "      <th>spacetype</th>\n",

        "      <th>leasetype</th>\n",

        "      <th>nspots</th>\n",

        "      <th>pop</th>\n",

        "      <th>popchange</th>\n",

        "      <th>land</th>\n",

        "      <th>densliv</th>\n",

        "      <th>denswork</th>\n",

        "      <th>...</th>\n",

        "      <th>hhsize</th>\n",

        "      <th>aincome</th>\n",

        "      <th>incomechange</th>\n",

        "      <th>degrees</th>\n",

        "      <th>asalary</th>\n",

        "      <th>anewsalary</th>\n",

        "      <th>employees</th>\n",

        "      <th>retails</th>\n",

        "      <th>listid</th>\n",

        "      <th>list</th>\n",

        "    </tr>\n",

        "  </thead>\n",

        "  <tbody>\n",

        "    <tr>\n",

        "      <th>0</th>\n",

        "      <td> 11324</td>\n",

        "      <td> 2.649241</td>\n",

        "      <td> 4</td>\n",

        "      <td> 427</td>\n",

        "      <td> 14</td>\n",

        "      <td> 6417.318254</td>\n",

        "      <td> 0.104498</td>\n",

        "      <td> 780786.644395</td>\n",

        "      <td> 0.008219</td>\n",

        "      <td> 0.001896</td>\n",

        "      <td>...</td>\n",

        "      <td> 2.811673</td>\n",

        "      <td> 64039</td>\n",

        "      <td> 0.008973</td>\n",

        "      <td> 0.034373</td>\n",

        "      <td> 43000</td>\n",

        "      <td> 42220.615385</td>\n",

        "      <td> 12</td>\n",

        "      <td> 5</td>\n",

        "      <td> 239</td>\n",

        "      <td> 1196</td>\n",

        "    </tr>\n",

        "    <tr>\n",

        "      <th>1</th>\n",

        "      <td>  2275</td>\n",

        "      <td> 1.583333</td>\n",

        "      <td> 4</td>\n",

        "      <td> 427</td>\n",

        "      <td> 22</td>\n",

        "      <td> 3902.848712</td>\n",

        "      <td> 0.041712</td>\n",

        "      <td> 646901.202888</td>\n",

        "      <td> 0.006033</td>\n",

        "      <td> 0.002220</td>\n",

        "      <td>...</td>\n",

        "      <td> 2.786308</td>\n",

        "      <td> 77802</td>\n",

        "      <td>-0.069537</td>\n",

        "      <td>-0.001562</td>\n",

        "      <td> 30000</td>\n",

        "      <td> 36709.000000</td>\n",

        "      <td> 12</td>\n",

        "      <td> 2</td>\n",

        "      <td> 388</td>\n",

        "      <td> 1196</td>\n",

        "    </tr>\n",

        "    <tr>\n",

        "      <th>2</th>\n",

        "      <td>  2275</td>\n",

        "      <td> 1.583333</td>\n",

        "      <td> 4</td>\n",

        "      <td> 427</td>\n",

        "      <td> 22</td>\n",

        "      <td> 3902.848712</td>\n",

        "      <td> 0.041712</td>\n",

        "      <td> 646901.202888</td>\n",

        "      <td> 0.006033</td>\n",

        "      <td> 0.002220</td>\n",

        "      <td>...</td>\n",

        "      <td> 2.786308</td>\n",

        "      <td> 77802</td>\n",

        "      <td>-0.069537</td>\n",

        "      <td>-0.001562</td>\n",

        "      <td> 30000</td>\n",

        "      <td> 36709.000000</td>\n",

        "      <td> 12</td>\n",

        "      <td> 2</td>\n",

        "      <td> 389</td>\n",

        "      <td> 1196</td>\n",

        "    </tr>\n",

        "  </tbody>\n",

        "</table>\n",

        "<p>3 rows \u00d7 22 columns</p>\n",

        "</div>"

       ],

       "metadata": {},

       "output_type": "pyout",

       "prompt_number": 14,

       "text": [

        "   spacesize     price  spacetype  leasetype  nspots          pop  popchange  \\\n",

        "0      11324  2.649241          4        427      14  6417.318254   0.104498   \n",

        "1       2275  1.583333          4        427      22  3902.848712   0.041712   \n",

        "2       2275  1.583333          4        427      22  3902.848712   0.041712   \n",

        "\n",

        "            land   densliv  denswork    ...       hhsize  aincome  \\\n",

        "0  780786.644395  0.008219  0.001896    ...     2.811673    64039   \n",

        "1  646901.202888  0.006033  0.002220    ...     2.786308    77802   \n",

        "2  646901.202888  0.006033  0.002220    ...     2.786308    77802   \n",

        "\n",

        "   incomechange   degrees  asalary    anewsalary  employees  retails  listid  \\\n",

        "0      0.008973  0.034373    43000  42220.615385         12        5     239   \n",

        "1     -0.069537 -0.001562    30000  36709.000000         12        2     388   \n",

        "2     -0.069537 -0.001562    30000  36709.000000         12        2     389   \n",

        "\n",

        "   list  \n",

        "0  1196  \n",

        "1  1196  \n",

        "2  1196  \n",

        "\n",

        "[3 rows x 22 columns]"

       ]

      }

     ],

     "prompt_number": 14

    },

    {

     "cell_type": "code",

     "collapsed": false,

     "input": [

      "# \u042d\u0422\u041e \u041d\u0410\u0414\u041e \u041b\u0418\u0428\u042c \u0412 CSV-\u0424\u041e\u0420\u041c\u0410\u0422\u0415\n",

      "# \u043f\u0435\u0440\u0435\u0432\u0435\u0441\u0442\u0438 \u043f\u0440\u043e\u0446\u0435\u043d\u0442\u044b \u0432 \u0447\u0438\u0441\u043b\u0430\n",

      "# def per2num(x):\n",

      "#     x = x.replace(',','.')\n",

      "#     i = x.find('%')\n",

      "#     if (i>0):\n",

      "#         x = x[:i]\n",

      "#         x = str(float(x)/100)\n",

      "#     return (x)\n",

      "\n",

      "# percentfeatures = ['degrees', 'popchange']\n",

      "# for f in percentfeatures:\n",

      "#     data[f] = data[f].apply(per2num)\n",

      "#     data[f] = data[f].astype(float)\n",

      "\n",

      "# data[:3]"

     ],

     "language": "python",

     "metadata": {},

     "outputs": [],

     "prompt_number": 19

    },

    {

     "cell_type": "code",

     "collapsed": false,

     "input": [

      "# \u0432\u044b\u0432\u043e\u0434 \u0437\u043d\u0430\u0447\u0435\u043d\u0438\u0439 \u043f\u043e \u043f\u0440\u0438\u0437\u043d\u0430\u043a\u0430\u043c\n",

      "for i in xrange(data.shape[1]):\n",

      "    print data.columns[i], data[data.columns[i]].values[:3]\n",

      "#a = data[data.columns[0]][:3]\n",

      "#a.values"

     ],

     "language": "python",

     "metadata": {},

     "outputs": [

      {

       "output_type": "stream",

       "stream": "stdout",

       "text": [

        "spacesize [11324  2275  2275]\n",

        "price [ 2.64924055  1.58333333  1.58333333]\n",

        "spacetype [4 4 4]\n",

        "leasetype [427 427 427]\n",

        "nspots [14 22 22]\n",

        "pop [ 6417.31825428  3902.84871166  3902.84871166]\n",

        "popchange [ 0.10449835  0.04171197  0.04171197]\n",

        "land [ 780786.64439507  646901.20288793  646901.20288793]\n",

        "densliv [ 0.00821904  0.00603314  0.00603314]\n",

        "denswork [ 0.00189552  0.00221981  0.00221981]\n",

        "denstotal [ 0.01011457  0.00825296  0.00825296]\n",

        "chat [7 7 7]\n",

        "hhsize [ 2.81167288  2.78630753  2.78630753]\n",

        "aincome [64039 77802 77802]\n",

        "incomechange [ 0.00897258 -0.06953688 -0.06953688]\n",

        "degrees [ 0.03437302 -0.0015618  -0.0015618 ]\n",

        "asalary [43000 30000 30000]\n",

        "anewsalary [ 42220.61538462  36709.          36709.        ]\n",

        "employees [12 12 12]\n",

        "retails [5 2 2]\n",

        "listid [239 388 389]\n",

        "list [1196 1196 1196]\n"

       ]

      }

     ],

     "prompt_number": 20

    },

    {

     "cell_type": "code",

     "collapsed": false,

     "input": [

      "# \u043f\u043e\u0434\u0433\u043e\u0442\u043e\u0432\u0438\u0442\u044c \u043e\u0431\u0443\u0447\u0435\u043d\u0438\u0435 \u0438 \u043a\u043e\u043d\u0442\u0440\u043e\u043b\u044c\n",

      "itest = data.index % 3 == 0\n",

      "test = data[itest]\n",

      "ytest = test['price']\n",

      "test = test[test.columns - ['price']]\n",

      "train = data[~itest]\n",

      "ytrain = train['price']\n",

      "train = train[train.columns - ['price']]"

     ],

     "language": "python",

     "metadata": {},

     "outputs": [],

     "prompt_number": 68

    },

    {

     "cell_type": "code",

     "collapsed": false,

     "input": [

      "# \u043a\u043e\u043d\u0441\u0442\u0430\u043d\u0442\u043d\u044b\u0439 \u0431\u0435\u043d\u0447\u043c\u0430\u0440\u043a\n",

      "y = data['price'].values\n",

      "# \u043d\u0430\u0448\u0438 \u0444\u0443\u043d\u043a\u0446\u0438\u0438 \u043e\u0448\u0438\u0431\u043a\u0438\n",

      "def ma(a,y):\n",

      "    return np.abs(a-y).mean()\n",

      "\n",

      "def rmse(a,y):\n",

      "    return np.sqrt((((a-y)**2).mean()))\n",

      "    \n",

      "print '\u0421\u0440\u0435\u0434\u043d\u0435\u0435 \u043e\u0442\u043a\u043b\u043e\u043d\u0435\u043d\u0438\u0435:' + str(ma(y.mean(),y))\n",

      "print '\u0421\u041a-\u043e\u0442\u043a\u043b\u043e\u043d\u0435\u043d\u0438\u0435:' + str(rmse(y.mean(),y))"

     ],

     "language": "python",

     "metadata": {},

     "outputs": [

      {

       "output_type": "stream",

       "stream": "stdout",

       "text": [

        "\u0421\u0440\u0435\u0434\u043d\u0435\u0435 \u043e\u0442\u043a\u043b\u043e\u043d\u0435\u043d\u0438\u0435:4.03197129723\n",

        "\u0421\u041a-\u043e\u0442\u043a\u043b\u043e\u043d\u0435\u043d\u0438\u0435:6.58079959213\n"

       ]

      }

     ],

     "prompt_number": 70

    },

    {

     "cell_type": "code",

     "collapsed": false,

     "input": [

      "# RF\n",

      "y = ytest.values\n",

      "\n",

      "import sklearn\n",

      "from sklearn import ensemble\n",

      "clf = sklearn.ensemble.RandomForestRegressor(n_estimators = 100, max_features = 10)\n",

      "\n",

      "asum = 0\n",

      "e1s = []\n",

      "e2s = []\n",

      "for i in range(10):\n",

      "    clf.fit(train, ytrain)\n",

      "    a = clf.predict(test)\n",

      "    asum = asum + a\n",

      "    aa = asum/(i+1)\n",

      "    e1 = ma(aa,y)\n",

      "    e2 = rmse(aa,y)\n",

      "    e1s.append(e1)\n",

      "    e2s.append(e2)\n",

      "    print 'it=' + str(i) + ' ma=' + str(e1) + ' rmse=' + str(e2)\n",

      "plt1, = plot(e1s, label='ma')\n",

      "plt2, = plot(e2s, label='rmse')\n",

      "#print '\u0421\u0440\u0435\u0434\u043d\u0435\u0435 \u043e\u0442\u043a\u043b\u043e\u043d\u0435\u043d\u0438\u0435:' + str(np.abs((a-y)).mean())\n",

      "#print '\u0421\u041a-\u043e\u0442\u043a\u043b\u043e\u043d\u0435\u043d\u0438\u0435:' + str(np.sqrt((((a-y))**2).mean()))\n",

      "legend((plt1, plt2), ['ma', 'rmse'])"

     ],

     "language": "python",

     "metadata": {},

     "outputs": [

      {

       "output_type": "stream",

       "stream": "stdout",

       "text": [

        "it=0 ma=2.13302605262 rmse=4.87093633505\n",

        "it=1 ma=2.12375079444 rmse=4.89879348639"

       ]

      },

      {

       "output_type": "stream",

       "stream": "stdout",

       "text": [

        "\n",

        "it=2 ma=2.1206627149 rmse=4.88795847537"

       ]

      },

      {

       "output_type": "stream",

       "stream": "stdout",

       "text": [

        "\n",

        "it=3 ma=2.12332802429 rmse=4.90191429436"

       ]

      },

      {

       "output_type": "stream",

       "stream": "stdout",

       "text": [

        "\n",

        "it=4 ma=2.12098464857 rmse=4.90193331669"

       ]

      },

      {

       "output_type": "stream",

       "stream": "stdout",

       "text": [

        "\n",

        "it=5 ma=2.11688809906 rmse=4.90190626714"

       ]

      },

      {

       "output_type": "stream",

       "stream": "stdout",

       "text": [

        "\n",

        "it=6 ma=2.11774837786 rmse=4.90049089551"

       ]

      },

      {

       "output_type": "stream",

       "stream": "stdout",

       "text": [

        "\n",

        "it=7 ma=2.116069004 rmse=4.88800749006"

       ]

      },

      {

       "output_type": "stream",

       "stream": "stdout",

       "text": [

        "\n",

        "it=8 ma=2.11885322327 rmse=4.8968311695"

       ]

      },

      {

       "output_type": "stream",

       "stream": "stdout",

       "text": [

        "\n",

        "it=9 ma=2.12141815394 rmse=4.90396149632"

       ]

      },

      {

       "output_type": "stream",

       "stream": "stdout",

       "text": [

        "\n"

       ]

      },

      {

       "metadata": {},

       "output_type": "pyout",

       "prompt_number": 73,

       "text": [

        "<matplotlib.legend.Legend at 0x1a207550>"

       ]

      },

      {

       "metadata": {},

       "output_type": "display_data",

       "png": "[encoded data removed]",

       "text": [

        "<matplotlib.figure.Figure at 0x18996710>"

       ]

      }

     ],

     "prompt_number": 73

    },

    {

     "cell_type": "code",

     "collapsed": false,

     "input": [

      "print train.shape\n",

      "print test.shape"

     ],

     "language": "python",

     "metadata": {},

     "outputs": [

      {

       "output_type": "stream",

       "stream": "stdout",

       "text": [

        "(1484, 21)\n",

        "(743, 21)\n"

       ]

      }

     ],

     "prompt_number": 69

    },

    {

     "cell_type": "code",

     "collapsed": false,

     "input": [

      "# \u043f\u0435\u0440\u0435\u0431\u043e\u0440 \u0432\u0441\u0435\u0445 \u0444\u043e\u043b\u0434\u043e\u0432\n",

      "clf = sklearn.ensemble.RandomForestRegressor(n_estimators = 100, \\\n",

      "                                             max_features = 5)\n",

      "\n",

      "y = data['price'].values\n",

      "a = y*0\n",

      "\n",

      "for jfold in range(3):\n",

      "    # \u043f\u043e\u0434\u0433\u043e\u0442\u043e\u0432\u0438\u0442\u044c \u043e\u0431\u0443\u0447\u0435\u043d\u0438\u0435 \u0438 \u043a\u043e\u043d\u0442\u0440\u043e\u043b\u044c\n",

      "    itest = data.index % 3 == jfold\n",

      "    test = data[itest]\n",

      "    ytest = test['price']\n",

      "    test = test[test.columns - ['price']]\n",

      "    train = data[~itest]\n",

      "    ytrain = train['price']\n",

      "    train = train[train.columns - ['price']]\n",

      "    clf.fit(train, ytrain)\n",

      "    a[itest] = clf.predict(test)\n",

      "    \n",

      "print '\u0421\u0440\u0435\u0434\u043d\u0435\u0435 \u043e\u0442\u043a\u043b\u043e\u043d\u0435\u043d\u0438\u0435:' + str(np.abs((a-y)).mean())\n",

      "print '\u0421\u041a-\u043e\u0442\u043a\u043b\u043e\u043d\u0435\u043d\u0438\u0435:' + str(np.sqrt((((a-y))**2).mean()))"

     ],

     "language": "python",

     "metadata": {},

     "outputs": [

      {

       "output_type": "stream",

       "stream": "stdout",

       "text": [

        "\u0421\u0440\u0435\u0434\u043d\u0435\u0435 \u043e\u0442\u043a\u043b\u043e\u043d\u0435\u043d\u0438\u0435:2.25390001005\n",

        "\u0421\u041a-\u043e\u0442\u043a\u043b\u043e\u043d\u0435\u043d\u0438\u0435:5.05519437016\n"

       ]

      }

     ],

     "prompt_number": 82

    },

    {

     "cell_type": "code",

     "collapsed": false,

     "input": [],

     "language": "python",

     "metadata": {},

     "outputs": []

    }

   ],

   "metadata": {}

  }

 ]

}
