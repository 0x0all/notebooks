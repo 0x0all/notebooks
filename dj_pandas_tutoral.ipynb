{

 "metadata": {

  "name": "",

  "signature": "sha256:417b5f27bd29d6f359455063d8a8f870c73e9a747409dd9ce5541b138d881187"

 },

 "nbformat": 3,

 "nbformat_minor": 0,

 "worksheets": [

  {

   "cells": [

    {

     "cell_type": "markdown",

     "metadata": {},

     "source": [

      "\u0423\u0447\u0435\u0431\u043d\u044b\u0439 \u043d\u043e\u0443\u0442\u0431\u0443\u043a \u043f\u043e \u0442\u0435\u043c\u0435 \"\u041f\u0430\u043a\u0435\u0442 Pandas\"\n",

      "\n",

      "\u0430\u0432\u0442\u043e\u0440: \u0410\u043b\u0435\u043a\u0441\u0430\u043d\u0434\u0440 \u0414\u044c\u044f\u043a\u043e\u043d\u043e\u0432 (alexanderdyakonov.wordpress.com)"

     ]

    },

    {

     "cell_type": "code",

     "collapsed": false,

     "input": [

      "# \u043f\u043e\u0434\u0433\u0440\u0443\u0436\u0430\u0435\u043c \u0432\u0441\u0435 \u043d\u0443\u0436\u043d\u044b\u0435 \u043f\u0430\u043a\u0435\u0442\u044b\n",

      "import pandas as pd\n",

      "import numpy as np\n",

      "\n",

      "\n",

      "# \u0434\u043b\u044f \u0432\u0441\u0442\u0440\u043e\u0435\u043d\u043d\u044b\u0445 \u043a\u0430\u0440\u0442\u0438\u043d\u043e\u043a\n",

      "%pylab inline\n",

      "# \u0447\u0443\u0442\u044c \u043f\u043e\u043a\u0440\u0430\u0441\u0438\u0432\u0448\u0435 \u043a\u0430\u0440\u0442\u0438\u043d\u043a\u0438:\n",

      "pd.set_option('display.mpl_style', 'default')\n",

      "figsize(10, 3)"

     ],

     "language": "python",

     "metadata": {},

     "outputs": [

      {

       "output_type": "stream",

       "stream": "stdout",

       "text": [

        "Populating the interactive namespace from numpy and matplotlib\n"

       ]

      }

     ],

     "prompt_number": 2

    },

    {

     "cell_type": "code",

     "collapsed": false,

     "input": [

      "# \u0437\u0430\u0433\u0440\u0443\u0437\u043a\u0430 \u0434\u0430\u043d\u043d\u044b\u0445\n",

      "\n",

      "# Excel\n",

      "data2 = pd.read_excel('D:\\\\filename.xlsx', sheetname='1')\n",

      "# csv-\u0444\u0430\u0439\u043b\n",

      "data = pd.read_csv('D:\\\\filename.csv', sep=';', decimal=',')\n",

      "data.to_csv('foo.csv') # \u0441\u043e\u0445\u0440\u0430\u043d\u0435\u043d\u0438\u0435\n",

      "# HDF5\n",

      "pd.read_hdf('foo.h5', 'df')\n",

      "df.to_hdf('foo.h5', 'df') # \u0441\u043e\u0445\u0440\u0430\u043d\u0435\u043d\u0438\u0435"

     ],

     "language": "python",

     "metadata": {},

     "outputs": []

    },

    {

     "cell_type": "code",

     "collapsed": false,

     "input": [

      "# \u0441\u043e\u0437\u0434\u0430\u043d\u0438\u0435 \u0434\u0430\u0442\u0430-\u0444\u0440\u0435\u0439\u043c\u0430\n",

      "\n",

      "data = pd.DataFrame({ 'A' : [1., 4., 2., 1.],\n",

      "'B' : pd.Timestamp('20130102'),\n",

      "'C' : pd.Series(1,index=list(range(4)),dtype='float32'),\n",

      "'D' : np.array([3] * 4,dtype='int32'),\n",

      "'E' : pd.Categorical([\"test\",\"train\",\"test\",\"train\"]),\n",

      "'F' : 'foo' }, index=pd.period_range('Jan-2000', periods=4, freq='M'))\n",

      "print data\n",

      "\n",

      "# \u0432\u0442\u043e\u0440\u043e\u0439 \u0441\u043f\u043e\u0441\u043e\u0431\n",

      "tmp = dict([('A',[1., np.nan, 2., 1.]), ('B',[2.2, np.nan, np.nan, 0.0])]) # \u0435\u0449\u0451 \u043e\u0434\u0438\u043d \u0441\u043f\u043e\u0441\u043e\u0431\n",

      "data2 = pd.DataFrame(tmp)\n",

      "print data2"

     ],

     "language": "python",

     "metadata": {},

     "outputs": [

      {

       "output_type": "stream",

       "stream": "stdout",

       "text": [

        "         A          B   C  D      E    F\n",

        "2000-01  1 2013-01-02 NaN  3   test  foo\n",

        "2000-02  4 2013-01-02 NaN  3  train  foo\n",

        "2000-03  2 2013-01-02 NaN  3   test  foo\n",

        "2000-04  1 2013-01-02 NaN  3  train  foo\n",

        "    A    B\n",

        "0   1  2.2\n",

        "1 NaN  NaN\n",

        "2   2  NaN\n",

        "3   1  0.0\n"

       ]

      }

     ],

     "prompt_number": 50

    },

    {

     "cell_type": "code",

     "collapsed": false,

     "input": [

      "# \u043f\u0440\u043e\u0441\u0442\u0435\u0439\u0448\u0438\u0435 \u043e\u043f\u0435\u0440\u0430\u0446\u0438\u0438\n",

      "# \u0441\u0442\u043e\u043b\u0431\u0446\u044b\n",

      "print data.columns\n",

      "# \u0441\u0442\u0440\u043e\u043a\u0438 - \u043d\u043e \u0442\u0443\u0442 \u0432\u0440\u0435\u043c\u0435\u043d\u043d\u0430\u044f \u0438\u043d\u0434\u0435\u043a\u0441\u0430\u0446\u0438\u044f\n",

      "print data.index\n",

      "# \u0441\u0430\u043c\u0438 \u0434\u0430\u043d\u043d\u044b\u0435\n",

      "print data\n",

      "# \u0441\u043e\u0440\u0442\u0438\u0440\u043e\u0432\u043a\u0430\n",

      "print data.sort(columns='A')\n",

      "# \u0442\u0438\u043f\u044b\n",

      "print data.dtypes\n",

      "# \u0441\u0442\u0430\u0442\u0438\u0441\u0442\u0438\u043a\u0430 + \u0442\u0440\u0430\u043d\u0441\u043f\u043e\u043d\u0438\u0440\u043e\u0432\u0430\u043d\u0438\u0435\n",

      "print data.describe().T"

     ],

     "language": "python",

     "metadata": {},

     "outputs": [

      {

       "output_type": "stream",

       "stream": "stdout",

       "text": [

        "Index([u'A', u'B', u'C', u'D', u'E', u'F'], dtype='object')\n",

        "<class 'pandas.tseries.period.PeriodIndex'>\n",

        "[2000-01, ..., 2000-04]\n",

        "Length: 4, Freq: M\n",

        "         A          B   C  D      E    F\n",

        "2000-01  1 2013-01-02 NaN  3   test  foo\n",

        "2000-02  4 2013-01-02 NaN  3  train  foo\n",

        "2000-03  2 2013-01-02 NaN  3   test  foo\n",

        "2000-04  1 2013-01-02 NaN  3  train  foo\n",

        "         A          B   C  D      E    F\n",

        "2000-01  1 2013-01-02 NaN  3   test  foo\n",

        "2000-04  1 2013-01-02 NaN  3  train  foo\n",

        "2000-03  2 2013-01-02 NaN  3   test  foo\n",

        "2000-02  4 2013-01-02 NaN  3  train  foo\n",

        "A           float64\n",

        "B    datetime64[ns]\n",

        "C           float32\n",

        "D             int32\n",

        "E            object\n",

        "F            object\n",

        "dtype: object\n",

        "   count  mean       std  min  25%  50%  75%  max\n",

        "A      4     2  1.414214    1    1  1.5  2.5    4\n",

        "C      0   NaN       NaN  NaN  NaN  NaN  NaN  NaN\n",

        "D      4     3  0.000000    3    3  3.0  3.0    3\n"

       ]

      }

     ],

     "prompt_number": 60

    },

    {

     "cell_type": "code",

     "collapsed": false,

     "input": [

      "# \u0438\u043d\u0434\u0435\u043a\u0441\u0430\u0446\u0438\u044f\n",

      "data.at['2000-01','A'] = 10.\n",

      "print data.loc['2000-01':'2000-02',['D','B','A']]\n",

      "data.iat[0,1] = pd.Timestamp('19990101') # \u043f\u0440\u043e\u0441\u0442\u043e = '1999/01/01' \u043d\u0435 \u0440\u0430\u0431\u043e\u0442\u0430\u0435\u0442\n",

      "print data.iloc[0:2,1:3]\n",

      "# \u0432\u044b\u0431\u043e\u0440 \u0441 \u043f\u0440\u043e\u0432\u0435\u0440\u043a\u043e\u0439 \u043d\u0430 \u0432\u0445\u043e\u0436\u0434\u0435\u043d\u0438\u0435\n",

      "print data[data['E'].isin(['test','valid'])]\n",

      "# \u0435\u0441\u043b\u0438 \u043d\u0435 \u0434\u0435\u043b\u0430\u0442\u044c \u043f\u0440\u0438\u043d\u0442 - \u0432\u044b\u0433\u043b\u044f\u0434\u0438\u0442 \u043a\u0440\u0443\u0447\u0435\n",

      "data.tail(3).T"

     ],

     "language": "python",

     "metadata": {},

     "outputs": [

      {

       "output_type": "stream",

       "stream": "stdout",

       "text": [

        "         D          B   A\n",

        "2000-01  3 2013-01-02  10\n",

        "2000-02  3 2013-01-02   4\n",

        "                 B   C\n",

        "2000-01 1999-01-01 NaN\n",

        "2000-02 2013-01-02 NaN\n",

        "          A          B   C  D     E    F\n",

        "2000-01  10 1999-01-01 NaN  3  test  foo\n",

        "2000-03   2 2013-01-02 NaN  3  test  foo\n"

       ]

      },

      {

       "html": [

        "<div style=\"max-height:1000px;max-width:1500px;overflow:auto;\">\n",

        "<table border=\"1\" class=\"dataframe\">\n",

        "  <thead>\n",

        "    <tr style=\"text-align: right;\">\n",

        "      <th></th>\n",

        "      <th>2000-02</th>\n",

        "      <th>2000-03</th>\n",

        "      <th>2000-04</th>\n",

        "    </tr>\n",

        "  </thead>\n",

        "  <tbody>\n",

        "    <tr>\n",

        "      <th>A</th>\n",

        "      <td>                   4</td>\n",

        "      <td>                   2</td>\n",

        "      <td>                   1</td>\n",

        "    </tr>\n",

        "    <tr>\n",

        "      <th>B</th>\n",

        "      <td> 2013-01-02 00:00:00</td>\n",

        "      <td> 2013-01-02 00:00:00</td>\n",

        "      <td> 2013-01-02 00:00:00</td>\n",

        "    </tr>\n",

        "    <tr>\n",

        "      <th>C</th>\n",

        "      <td>                 NaN</td>\n",

        "      <td>                 NaN</td>\n",

        "      <td>                 NaN</td>\n",

        "    </tr>\n",

        "    <tr>\n",

        "      <th>D</th>\n",

        "      <td>                   3</td>\n",

        "      <td>                   3</td>\n",

        "      <td>                   3</td>\n",

        "    </tr>\n",

        "    <tr>\n",

        "      <th>E</th>\n",

        "      <td>               train</td>\n",

        "      <td>                test</td>\n",

        "      <td>               train</td>\n",

        "    </tr>\n",

        "    <tr>\n",

        "      <th>F</th>\n",

        "      <td>                 foo</td>\n",

        "      <td>                 foo</td>\n",

        "      <td>                 foo</td>\n",

        "    </tr>\n",

        "  </tbody>\n",

        "</table>\n",

        "</div>"

       ],

       "metadata": {},

       "output_type": "pyout",

       "prompt_number": 61,

       "text": [

        "               2000-02              2000-03              2000-04\n",

        "A                    4                    2                    1\n",

        "B  2013-01-02 00:00:00  2013-01-02 00:00:00  2013-01-02 00:00:00\n",

        "C                  NaN                  NaN                  NaN\n",

        "D                    3                    3                    3\n",

        "E                train                 test                train\n",

        "F                  foo                  foo                  foo"

       ]

      }

     ],

     "prompt_number": 61

    },

    {

     "cell_type": "code",

     "collapsed": false,

     "input": [

      "# \u043e\u043f\u0435\u0440\u0430\u0446\u0438\u0438 \u0441 \u041d\u0430\u041d\u0430\u043c\u0438\n",

      "# \u043c\u0430\u0441\u043a\u0430 \u041d\u0430\u043d\u043e\u0432\n",

      "print data2.isnull()\n",

      "# nan \u0430\u0432\u0442\u043e\u043c\u0430\u0442\u0438\u0447\u0435\u0441\u043a\u0438 \u043d\u0435 \u0443\u0447\u0438\u0442\u044b\u0432\u0430\u044e\u0442\u0441\u044f\n",

      "print data2.mean()\n",

      "# \u0442\u043e\u0436\u0435 \u043e\u0431\u0445\u043e\u0434\u044f\u0442\u0441\u044f nan:\n",

      "print data2.apply(np.cumsum)\n",

      "# \u0443\u0434\u0430\u043b\u0435\u043d\u0438\u0435 \u041d\u0430\u043d\u043e\u0432\n",

      "data3 = data2.dropna()\n",

      "print data3\n",

      "# \u0437\u0430\u043f\u043e\u043b\u043d\u0435\u043d\u0438\u0435 \u041d\u0430\u043d\u043e\u0432\n",

      "print data2.fillna(value=5.5)\n",

      "# \u0437\u0430\u043f\u043e\u043b\u043d\u0435\u043d\u0438\u0435 \u0441\u043e\u0441\u0435\u0434\u043d\u0438\u043c\u0438 \u0437\u043d\u0430\u0447\u0435\u043d\u0438\u044f\u043c\u0438\n",

      "print data2.ffill()\n",

      "# \u043d\u0435 \u0437\u0430\u0431\u044b\u0432\u0430\u0442\u044c data2 = data2.fillna(value=5.5)\n",

      "data2"

     ],

     "language": "python",

     "metadata": {},

     "outputs": [

      {

       "output_type": "stream",

       "stream": "stdout",

       "text": [

        "       A      B\n",

        "0  False  False\n",

        "1   True   True\n",

        "2  False   True\n",

        "3  False  False\n",

        "A    1.333333\n",

        "B    1.100000\n",

        "dtype: float64\n",

        "    A    B\n",

        "0   1  2.2\n",

        "1 NaN  NaN\n",

        "2   3  NaN\n",

        "3   4  2.2\n",

        "   A    B\n",

        "0  1  2.2\n",

        "3  1  0.0\n",

        "     A    B\n",

        "0  1.0  2.2\n",

        "1  5.5  5.5\n",

        "2  2.0  5.5\n",

        "3  1.0  0.0\n",

        "   A    B\n",

        "0  1  2.2\n",

        "1  1  2.2\n",

        "2  2  2.2\n",

        "3  1  0.0\n"

       ]

      },

      {

       "html": [

        "<div style=\"max-height:1000px;max-width:1500px;overflow:auto;\">\n",

        "<table border=\"1\" class=\"dataframe\">\n",

        "  <thead>\n",

        "    <tr style=\"text-align: right;\">\n",

        "      <th></th>\n",

        "      <th>A</th>\n",

        "      <th>B</th>\n",

        "    </tr>\n",

        "  </thead>\n",

        "  <tbody>\n",

        "    <tr>\n",

        "      <th>0</th>\n",

        "      <td>  1</td>\n",

        "      <td> 2.2</td>\n",

        "    </tr>\n",

        "    <tr>\n",

        "      <th>1</th>\n",

        "      <td>NaN</td>\n",

        "      <td> NaN</td>\n",

        "    </tr>\n",

        "    <tr>\n",

        "      <th>2</th>\n",

        "      <td>  2</td>\n",

        "      <td> NaN</td>\n",

        "    </tr>\n",

        "    <tr>\n",

        "      <th>3</th>\n",

        "      <td>  1</td>\n",

        "      <td> 0.0</td>\n",

        "    </tr>\n",

        "  </tbody>\n",

        "</table>\n",

        "</div>"

       ],

       "metadata": {},

       "output_type": "pyout",

       "prompt_number": 63,

       "text": [

        "    A    B\n",

        "0   1  2.2\n",

        "1 NaN  NaN\n",

        "2   2  NaN\n",

        "3   1  0.0"

       ]

      }

     ],

     "prompt_number": 63

    },

    {

     "cell_type": "code",

     "collapsed": false,

     "input": [

      "# \u043a\u0430\u043a \u0447\u0430\u0441\u0442\u043e \u0432\u0441\u0442\u0440\u0435\u0447\u0430\u044e\u0442\u0441\u044f \u043f\u0430\u0440\u044b \u0437\u043d\u0430\u0447\u0435\u043d\u0438\u0439\n",

      "d = pd.DataFrame({'A': [1,2,2,1,2,3,2,1,3], 'B': [1,2,3,4,1,2,3,3,4]})\n",

      "pd.crosstab(d['A'], d['B'])"

     ],

     "language": "python",

     "metadata": {},

     "outputs": [

      {

       "html": [

        "<div style=\"max-height:1000px;max-width:1500px;overflow:auto;\">\n",

        "<table border=\"1\" class=\"dataframe\">\n",

        "  <thead>\n",

        "    <tr style=\"text-align: right;\">\n",

        "      <th>B</th>\n",

        "      <th>1</th>\n",

        "      <th>2</th>\n",

        "      <th>3</th>\n",

        "      <th>4</th>\n",

        "    </tr>\n",

        "    <tr>\n",

        "      <th>A</th>\n",

        "      <th></th>\n",

        "      <th></th>\n",

        "      <th></th>\n",

        "      <th></th>\n",

        "    </tr>\n",

        "  </thead>\n",

        "  <tbody>\n",

        "    <tr>\n",

        "      <th>1</th>\n",

        "      <td> 1</td>\n",

        "      <td> 0</td>\n",

        "      <td> 1</td>\n",

        "      <td> 1</td>\n",

        "    </tr>\n",

        "    <tr>\n",

        "      <th>2</th>\n",

        "      <td> 1</td>\n",

        "      <td> 1</td>\n",

        "      <td> 2</td>\n",

        "      <td> 0</td>\n",

        "    </tr>\n",

        "    <tr>\n",

        "      <th>3</th>\n",

        "      <td> 0</td>\n",

        "      <td> 1</td>\n",

        "      <td> 0</td>\n",

        "      <td> 1</td>\n",

        "    </tr>\n",

        "  </tbody>\n",

        "</table>\n",

        "</div>"

       ],

       "metadata": {},

       "output_type": "pyout",

       "prompt_number": 64,

       "text": [

        "B  1  2  3  4\n",

        "A            \n",

        "1  1  0  1  1\n",

        "2  1  1  2  0\n",

        "3  0  1  0  1"

       ]

      }

     ],

     "prompt_number": 64

    },

    {

     "cell_type": "code",

     "collapsed": false,

     "input": [

      "# \u0432\u0441\u0435 \u0441\u0442\u0440\u043e\u043a\u0438, \u0432 \u043a\u043e\u0442\u043e\u0440\u044b\u0445 \u0441\u0442\u043e\u043b\u0431\u0435\u0446 \u043d\u0430\u0447\u0438\u043d\u0430\u0435\u0442\u0441\u044f \u0441 \u043e\u043f\u0440\u0435\u0434\u0435\u043b\u0451\u043d\u043d\u043e\u0439 \u0431\u0443\u043a\u0432\u044b\n",

      "d = pd.DataFrame({'A': [1,2,2,1,2,3,2,1,3], 'B': ['as','bs','e','qq','aaa','a','e','qwr','www']})\n",

      "d[d['B'].map(lambda x: x.startswith('a'))]"

     ],

     "language": "python",

     "metadata": {},

     "outputs": [

      {

       "html": [

        "<div style=\"max-height:1000px;max-width:1500px;overflow:auto;\">\n",

        "<table border=\"1\" class=\"dataframe\">\n",

        "  <thead>\n",

        "    <tr style=\"text-align: right;\">\n",

        "      <th></th>\n",

        "      <th>A</th>\n",

        "      <th>B</th>\n",

        "    </tr>\n",

        "  </thead>\n",

        "  <tbody>\n",

        "    <tr>\n",

        "      <th>0</th>\n",

        "      <td> 1</td>\n",

        "      <td>  as</td>\n",

        "    </tr>\n",

        "    <tr>\n",

        "      <th>4</th>\n",

        "      <td> 2</td>\n",

        "      <td> aaa</td>\n",

        "    </tr>\n",

        "    <tr>\n",

        "      <th>5</th>\n",

        "      <td> 3</td>\n",

        "      <td>   a</td>\n",

        "    </tr>\n",

        "  </tbody>\n",

        "</table>\n",

        "</div>"

       ],

       "metadata": {},

       "output_type": "pyout",

       "prompt_number": 65,

       "text": [

        "   A    B\n",

        "0  1   as\n",

        "4  2  aaa\n",

        "5  3    a"

       ]

      }

     ],

     "prompt_number": 65

    },

    {

     "cell_type": "code",

     "collapsed": false,

     "input": [

      "# \u0437\u0430\u043c\u0435\u043d\u0430 \u043e\u043f\u0440\u0435\u0434\u0435\u043b\u0451\u043d\u043d\u044b\u0445 \u0437\u043d\u0430\u0447\u0435\u043d\u0438\u0439\n",

      "d = pd.DataFrame({'A': [1,2,2,1,2,3,2,1,3], 'B': [1,2,3,4,1,2,3,3,4]})\n",

      "d['B'][d['A']==1] = 0\n",

      "# \u0432\u0442\u043e\u0440\u043e\u0439 \u0441\u043f\u043e\u0441\u043e\u0431: d.ix[d['A']==1, 'B'] = 0\n",

      "d"

     ],

     "language": "python",

     "metadata": {},

     "outputs": [

      {

       "html": [

        "<div style=\"max-height:1000px;max-width:1500px;overflow:auto;\">\n",

        "<table border=\"1\" class=\"dataframe\">\n",

        "  <thead>\n",

        "    <tr style=\"text-align: right;\">\n",

        "      <th></th>\n",

        "      <th>A</th>\n",

        "      <th>B</th>\n",

        "    </tr>\n",

        "  </thead>\n",

        "  <tbody>\n",

        "    <tr>\n",

        "      <th>0</th>\n",

        "      <td> 1</td>\n",

        "      <td> 0</td>\n",

        "    </tr>\n",

        "    <tr>\n",

        "      <th>1</th>\n",

        "      <td> 2</td>\n",

        "      <td> 2</td>\n",

        "    </tr>\n",

        "    <tr>\n",

        "      <th>2</th>\n",

        "      <td> 2</td>\n",

        "      <td> 3</td>\n",

        "    </tr>\n",

        "    <tr>\n",

        "      <th>3</th>\n",

        "      <td> 1</td>\n",

        "      <td> 0</td>\n",

        "    </tr>\n",

        "    <tr>\n",

        "      <th>4</th>\n",

        "      <td> 2</td>\n",

        "      <td> 1</td>\n",

        "    </tr>\n",

        "    <tr>\n",

        "      <th>5</th>\n",

        "      <td> 3</td>\n",

        "      <td> 2</td>\n",

        "    </tr>\n",

        "    <tr>\n",

        "      <th>6</th>\n",

        "      <td> 2</td>\n",

        "      <td> 3</td>\n",

        "    </tr>\n",

        "    <tr>\n",

        "      <th>7</th>\n",

        "      <td> 1</td>\n",

        "      <td> 0</td>\n",

        "    </tr>\n",

        "    <tr>\n",

        "      <th>8</th>\n",

        "      <td> 3</td>\n",

        "      <td> 4</td>\n",

        "    </tr>\n",

        "  </tbody>\n",

        "</table>\n",

        "</div>"

       ],

       "metadata": {},

       "output_type": "pyout",

       "prompt_number": 66,

       "text": [

        "   A  B\n",

        "0  1  0\n",

        "1  2  2\n",

        "2  2  3\n",

        "3  1  0\n",

        "4  2  1\n",

        "5  3  2\n",

        "6  2  3\n",

        "7  1  0\n",

        "8  3  4"

       ]

      }

     ],

     "prompt_number": 66

    },

    {

     "cell_type": "code",

     "collapsed": false,

     "input": [

      "# \u0438\u0441\u043f\u043e\u043b\u044c\u0437\u043e\u0432\u0430\u043d\u0438\u0435 \u043c\u0430\u0441\u043e\u043a\n",

      "d = pd.DataFrame({'A': [1,2,2,1,2,3,2,1,3], 'B': [1,2,3,4,1,2,3,3,4]})\n",

      "mask = d>1\n",

      "print mask.T\n",

      "d = d.where(mask,2)\n",

      "d['C'] = np.where(d['B']>3, 'high', 'low')\n",

      "d.T"

     ],

     "language": "python",

     "metadata": {},

     "outputs": [

      {

       "output_type": "stream",

       "stream": "stdout",

       "text": [

        "       0     1     2      3      4     5     6      7     8\n",

        "A  False  True  True  False   True  True  True  False  True\n",

        "B  False  True  True   True  False  True  True   True  True\n"

       ]

      },

      {

       "html": [

        "<div style=\"max-height:1000px;max-width:1500px;overflow:auto;\">\n",

        "<table border=\"1\" class=\"dataframe\">\n",

        "  <thead>\n",

        "    <tr style=\"text-align: right;\">\n",

        "      <th></th>\n",

        "      <th>0</th>\n",

        "      <th>1</th>\n",

        "      <th>2</th>\n",

        "      <th>3</th>\n",

        "      <th>4</th>\n",

        "      <th>5</th>\n",

        "      <th>6</th>\n",

        "      <th>7</th>\n",

        "      <th>8</th>\n",

        "    </tr>\n",

        "  </thead>\n",

        "  <tbody>\n",

        "    <tr>\n",

        "      <th>A</th>\n",

        "      <td>   2</td>\n",

        "      <td>   2</td>\n",

        "      <td>   2</td>\n",

        "      <td>    2</td>\n",

        "      <td>   2</td>\n",

        "      <td>   3</td>\n",

        "      <td>   2</td>\n",

        "      <td>   2</td>\n",

        "      <td>    3</td>\n",

        "    </tr>\n",

        "    <tr>\n",

        "      <th>B</th>\n",

        "      <td>   2</td>\n",

        "      <td>   2</td>\n",

        "      <td>   3</td>\n",

        "      <td>    4</td>\n",

        "      <td>   2</td>\n",

        "      <td>   2</td>\n",

        "      <td>   3</td>\n",

        "      <td>   3</td>\n",

        "      <td>    4</td>\n",

        "    </tr>\n",

        "    <tr>\n",

        "      <th>C</th>\n",

        "      <td> low</td>\n",

        "      <td> low</td>\n",

        "      <td> low</td>\n",

        "      <td> high</td>\n",

        "      <td> low</td>\n",

        "      <td> low</td>\n",

        "      <td> low</td>\n",

        "      <td> low</td>\n",

        "      <td> high</td>\n",

        "    </tr>\n",

        "  </tbody>\n",

        "</table>\n",

        "</div>"

       ],

       "metadata": {},

       "output_type": "pyout",

       "prompt_number": 67,

       "text": [

        "     0    1    2     3    4    5    6    7     8\n",

        "A    2    2    2     2    2    3    2    2     3\n",

        "B    2    2    3     4    2    2    3    3     4\n",

        "C  low  low  low  high  low  low  low  low  high"

       ]

      }

     ],

     "prompt_number": 67

    },

    {

     "cell_type": "code",

     "collapsed": false,

     "input": [

      "# \u043e\u0431\u044a\u0435\u0434\u0438\u043d\u0435\u043d\u0438\u0435 \u0434\u0430\u0442\u0430-\u0444\u0440\u0435\u0439\u043c\u043e\u0432\n",

      "left = pd.DataFrame({'key': [1,2,1], 'l': [1, 2, 3]})\n",

      "right = pd.DataFrame({'key': [1,2,3], 'r': [4, 5, 6]})\n",

      "print left\n",

      "print right\n",

      "pd.merge(left, right, on='key')"

     ],

     "language": "python",

     "metadata": {},

     "outputs": [

      {

       "output_type": "stream",

       "stream": "stdout",

       "text": [

        "   key  l\n",

        "0    1  1\n",

        "1    2  2\n",

        "2    1  3\n",

        "   key  r\n",

        "0    1  4\n",

        "1    2  5\n",

        "2    3  6\n"

       ]

      },

      {

       "html": [

        "<div style=\"max-height:1000px;max-width:1500px;overflow:auto;\">\n",

        "<table border=\"1\" class=\"dataframe\">\n",

        "  <thead>\n",

        "    <tr style=\"text-align: right;\">\n",

        "      <th></th>\n",

        "      <th>key</th>\n",

        "      <th>l</th>\n",

        "      <th>r</th>\n",

        "    </tr>\n",

        "  </thead>\n",

        "  <tbody>\n",

        "    <tr>\n",

        "      <th>0</th>\n",

        "      <td> 1</td>\n",

        "      <td> 1</td>\n",

        "      <td> 4</td>\n",

        "    </tr>\n",

        "    <tr>\n",

        "      <th>1</th>\n",

        "      <td> 1</td>\n",

        "      <td> 3</td>\n",

        "      <td> 4</td>\n",

        "    </tr>\n",

        "    <tr>\n",

        "      <th>2</th>\n",

        "      <td> 2</td>\n",

        "      <td> 2</td>\n",

        "      <td> 5</td>\n",

        "    </tr>\n",

        "  </tbody>\n",

        "</table>\n",

        "</div>"

       ],

       "metadata": {},

       "output_type": "pyout",

       "prompt_number": 71,

       "text": [

        "   key  l  r\n",

        "0    1  1  4\n",

        "1    1  3  4\n",

        "2    2  2  5"

       ]

      }

     ],

     "prompt_number": 71

    },

    {

     "cell_type": "code",

     "collapsed": false,

     "input": [

      "# \u0434\u043e\u0431\u0430\u0432\u043b\u0435\u043d\u0438\u0435 \u043a \u0434\u0430\u0442\u0430-\u0444\u0440\u0435\u0439\u043c\u0443\n",

      "tmp = dict([('A',[1., 3., 2., 1.]), ('B',[2.2, 1.1, 3.3, 0.0]), ('C', 1)]) # \u0435\u0449\u0451 \u043e\u0434\u0438\u043d \u0441\u043f\u043e\u0441\u043e\u0431\n",

      "df = pd.DataFrame(tmp)\n",

      "# \u0434\u043e\u0431\u0430\u0432\u043b\u0435\u043d\u0438\u0435 \u043a \u0434\u0430\u0442\u0430-\u0444\u0440\u0435\u0439\u043c\u0443\n",

      "df = df.append(df.iloc[1:3])\n",

      "df"

     ],

     "language": "python",

     "metadata": {},

     "outputs": [

      {

       "html": [

        "<div style=\"max-height:1000px;max-width:1500px;overflow:auto;\">\n",

        "<table border=\"1\" class=\"dataframe\">\n",

        "  <thead>\n",

        "    <tr style=\"text-align: right;\">\n",

        "      <th></th>\n",

        "      <th>A</th>\n",

        "      <th>B</th>\n",

        "      <th>C</th>\n",

        "    </tr>\n",

        "  </thead>\n",

        "  <tbody>\n",

        "    <tr>\n",

        "      <th>0</th>\n",

        "      <td> 1</td>\n",

        "      <td> 2.2</td>\n",

        "      <td> 1</td>\n",

        "    </tr>\n",

        "    <tr>\n",

        "      <th>1</th>\n",

        "      <td> 3</td>\n",

        "      <td> 1.1</td>\n",

        "      <td> 1</td>\n",

        "    </tr>\n",

        "    <tr>\n",

        "      <th>2</th>\n",

        "      <td> 2</td>\n",

        "      <td> 3.3</td>\n",

        "      <td> 1</td>\n",

        "    </tr>\n",

        "    <tr>\n",

        "      <th>3</th>\n",

        "      <td> 1</td>\n",

        "      <td> 0.0</td>\n",

        "      <td> 1</td>\n",

        "    </tr>\n",

        "    <tr>\n",

        "      <th>1</th>\n",

        "      <td> 3</td>\n",

        "      <td> 1.1</td>\n",

        "      <td> 1</td>\n",

        "    </tr>\n",

        "    <tr>\n",

        "      <th>2</th>\n",

        "      <td> 2</td>\n",

        "      <td> 3.3</td>\n",

        "      <td> 1</td>\n",

        "    </tr>\n",

        "  </tbody>\n",

        "</table>\n",

        "</div>"

       ],

       "metadata": {},

       "output_type": "pyout",

       "prompt_number": 85,

       "text": [

        "   A    B  C\n",

        "0  1  2.2  1\n",

        "1  3  1.1  1\n",

        "2  2  3.3  1\n",

        "3  1  0.0  1\n",

        "1  3  1.1  1\n",

        "2  2  3.3  1"

       ]

      }

     ],

     "prompt_number": 85

    },

    {

     "cell_type": "code",

     "collapsed": false,

     "input": [

      "# \u0438\u043d\u0444\u043e\u0440\u043c\u0430\u0446\u0438\u044f\n",

      "data.info() # \u043f\u043e \u043f\u0430\u043c\u044f\u0442\u0438\n",

      "#??? data.memory_usage() # \u0430\u043d\u0430\u043b\u043e\u0433\u0438\u0447\u043d\u043e"

     ],

     "language": "python",

     "metadata": {},

     "outputs": [

      {

       "output_type": "stream",

       "stream": "stdout",

       "text": [

        "<class 'pandas.core.frame.DataFrame'>\n",

        "PeriodIndex: 4 entries, 2000-01 to 2000-04\n",

        "Data columns (total 6 columns):\n",

        "A    4 non-null float64\n",

        "B    4 non-null datetime64[ns]\n",

        "C    0 non-null float32\n",

        "D    4 non-null int32\n",

        "E    4 non-null object\n",

        "F    4 non-null object\n",

        "dtypes: datetime64[ns](1), float32(1), float64(1), int32(1), object(2)"

       ]

      }

     ],

     "prompt_number": 69

    },

    {

     "cell_type": "code",

     "collapsed": false,

     "input": [

      "# \u0432\u0440\u0435\u043c\u0435\u043d\u043d\u044b\u0435 \u0440\u044f\u0434\u044b\n",

      "# \u0441\u043e\u0437\u0434\u0430\u043d\u0438\u0435\n",

      "rng = pd.date_range('1/1/2012', periods=9, freq='D')\n",

      "# \u0434\u043d\u0438\n",

      "print rng.day\n",

      "# \u0434\u043d\u0438 \u043d\u0435\u0434\u0435\u043b\u0438\n",

      "print rng.weekday\n",

      "\n",

      "rng = pd.date_range('1/1/2012', periods=200, freq='S')\n",

      "ts = pd.Series(np.random.randint(0, 500, len(rng)), index=rng)\n",

      "# \u0440\u0435\u0441\u044d\u043c\u043f\u043b\u0438\u0440\u043e\u0432\u0430\u043d\u0438\u0435\n",

      "ts = ts.resample('Min', how='sum')\n",

      "print ts\n",

      "# ???\n",

      "ts.tz_localize('UTC')\n",

      "print ts"

     ],

     "language": "python",

     "metadata": {},

     "outputs": [

      {

       "output_type": "stream",

       "stream": "stdout",

       "text": [

        "[1 2 3 4 5 6 7 8 9]\n",

        "[6 0 1 2 3 4 5 6 0]\n",

        "2012-01-01 00:00:00    15255\n",

        "2012-01-01 00:01:00    13164\n",

        "2012-01-01 00:02:00    14217\n",

        "2012-01-01 00:03:00     5326\n",

        "Freq: T, dtype: int32\n",

        "2012-01-01 00:00:00    15255\n",

        "2012-01-01 00:01:00    13164\n",

        "2012-01-01 00:02:00    14217\n",

        "2012-01-01 00:03:00     5326\n",

        "Freq: T, dtype: int32\n"

       ]

      }

     ],

     "prompt_number": 72

    },

    {

     "cell_type": "code",

     "collapsed": false,

     "input": [

      "# \u0440\u0435\u0448\u0435\u043d\u0438\u0435 \u0437\u0430\u0434\u0430\u0447\u0438\n",

      "# \u0434\u043b\u044f \u043a\u0430\u0436\u0434\u043e\u0433\u043e \u0443\u043d\u0430\u043a\u0430\u043b\u044c\u043d\u043e\u0433\u043e \u0437\u043d\u0430\u0447\u0435\u043d\u0438\u044f A \u043d\u0430\u0439\u0442\u0438 \u043c\u0438\u043d\u0438\u043c\u0430\u043b\u044c\u043d\u044b\u0439 B\n",

      "import pandas as pd\n",

      "d = pd.DataFrame({'A': [1,2,2,1,3,3], 'B': [1,2,3,3,2,1]})\n",

      "print d\n",

      "\n",

      "# \u043f\u0435\u0440\u0432\u044b\u0439 \u0441\u043f\u043e\u0441\u043e\u0431\n",

      "print d.loc[d.groupby('A')['B'].idxmin()]\n",

      "\n",

      "# \u0432\u0442\u043e\u0440\u043e\u0439 \u0441\u043f\u043e\u0441\u043e\u0431\n",

      "print d.sort('B').groupby('A', as_index=False).first()"

     ],

     "language": "python",

     "metadata": {},

     "outputs": [

      {

       "output_type": "stream",

       "stream": "stdout",

       "text": [

        "   A  B\n",

        "0  1  1\n",

        "1  2  2\n",

        "2  2  3\n",

        "3  1  3\n",

        "4  3  2\n",

        "5  3  1\n",

        "   A  B\n",

        "0  1  1\n",

        "1  2  2\n",

        "5  3  1\n",

        "   A  B\n",

        "0  1  1\n",

        "1  2  2\n",

        "2  3  1\n"

       ]

      }

     ],

     "prompt_number": 73

    },

    {

     "cell_type": "code",

     "collapsed": false,

     "input": [

      "# \u043e\u043f\u0435\u0440\u0430\u0446\u0438\u0438 \u043f\u043e \u0433\u0440\u0443\u043f\u043f\u0430\u043c (\u0438\u043d\u0434\u0443\u0446\u0438\u0440\u0443\u044e\u0442\u0441\u044f \u0440\u0430\u0437\u0431\u0438\u0435\u043d\u0438\u0435\u043c \u043f\u043e \u043e\u043f\u0440\u0435\u0434\u0435\u043b\u0451\u043d\u043d\u043e\u043c\u0443 \u043f\u0440\u0438\u0437\u043d\u0430\u043a\u0443)\n",

      "d = pd.DataFrame({'A': [1,2,2,1,1,2,2], 'B': [1,2,np.nan,5,3,1,10]})\n",

      "d = d.sort('A')\n",

      "print d\n",

      "d['shift_B'] = d.groupby('A')['B'].shift(1) # \u0441\u0434\u0432\u0438\u0433 \u0433\u0440\u0443\u043f\u043f\n",

      "d['counts'] = d.groupby(['A'])['B'].transform(len) # \u0447\u0438\u0441\u043b\u043e \u044d\u043b\u0435\u043c\u0435\u043d\u0442\u043e\u0432 \u0432 \u0433\u0440\u0443\u043f\u043f\u0435\n",

      "d"

     ],

     "language": "python",

     "metadata": {},

     "outputs": [

      {

       "output_type": "stream",

       "stream": "stdout",

       "text": [

        "   A   B\n",

        "0  1   1\n",

        "3  1   5\n",

        "4  1   3\n",

        "1  2   2\n",

        "2  2 NaN\n",

        "5  2   1\n",

        "6  2  10\n"

       ]

      },

      {

       "html": [

        "<div style=\"max-height:1000px;max-width:1500px;overflow:auto;\">\n",

        "<table border=\"1\" class=\"dataframe\">\n",

        "  <thead>\n",

        "    <tr style=\"text-align: right;\">\n",

        "      <th></th>\n",

        "      <th>A</th>\n",

        "      <th>B</th>\n",

        "      <th>shift_B</th>\n",

        "      <th>counts</th>\n",

        "    </tr>\n",

        "  </thead>\n",

        "  <tbody>\n",

        "    <tr>\n",

        "      <th>0</th>\n",

        "      <td> 1</td>\n",

        "      <td>  1</td>\n",

        "      <td>NaN</td>\n",

        "      <td> 3</td>\n",

        "    </tr>\n",

        "    <tr>\n",

        "      <th>3</th>\n",

        "      <td> 1</td>\n",

        "      <td>  5</td>\n",

        "      <td>  1</td>\n",

        "      <td> 3</td>\n",

        "    </tr>\n",

        "    <tr>\n",

        "      <th>4</th>\n",

        "      <td> 1</td>\n",

        "      <td>  3</td>\n",

        "      <td>  5</td>\n",

        "      <td> 3</td>\n",

        "    </tr>\n",

        "    <tr>\n",

        "      <th>1</th>\n",

        "      <td> 2</td>\n",

        "      <td>  2</td>\n",

        "      <td>NaN</td>\n",

        "      <td> 4</td>\n",

        "    </tr>\n",

        "    <tr>\n",

        "      <th>2</th>\n",

        "      <td> 2</td>\n",

        "      <td>NaN</td>\n",

        "      <td>  2</td>\n",

        "      <td> 4</td>\n",

        "    </tr>\n",

        "    <tr>\n",

        "      <th>5</th>\n",

        "      <td> 2</td>\n",

        "      <td>  1</td>\n",

        "      <td>NaN</td>\n",

        "      <td> 4</td>\n",

        "    </tr>\n",

        "    <tr>\n",

        "      <th>6</th>\n",

        "      <td> 2</td>\n",

        "      <td> 10</td>\n",

        "      <td>  1</td>\n",

        "      <td> 4</td>\n",

        "    </tr>\n",

        "  </tbody>\n",

        "</table>\n",

        "</div>"

       ],

       "metadata": {},

       "output_type": "pyout",

       "prompt_number": 74,

       "text": [

        "   A   B  shift_B  counts\n",

        "0  1   1      NaN       3\n",

        "3  1   5        1       3\n",

        "4  1   3        5       3\n",

        "1  2   2      NaN       4\n",

        "2  2 NaN        2       4\n",

        "5  2   1      NaN       4\n",

        "6  2  10        1       4"

       ]

      }

     ],

     "prompt_number": 74

    },

    {

     "cell_type": "code",

     "collapsed": false,

     "input": [

      "d = pd.DataFrame({'A': [1,2,2,1,1,2,2], 'B': [1,0,np.nan,1,0,1,0]})\n",

      "d = d.sort('A')\n",

      "print d\n",

      "\n",

      "# \u0434\u043b\u0438\u043d\u0430 \u0438 \u0441\u043a\u043e\u043b\u044c\u043a\u043e 1 \u0432 \u043a\u0430\u0436\u0434\u043e\u0439 \u0433\u0440\u0443\u043f\u043f\u0435\n",

      "d.groupby('A').agg({'A': len, 'B': lambda x: sum(x == 1)})"

     ],

     "language": "python",

     "metadata": {},

     "outputs": [

      {

       "output_type": "stream",

       "stream": "stdout",

       "text": [

        "   A   B\n",

        "0  1   1\n",

        "3  1   1\n",

        "4  1   0\n",

        "1  2   0\n",

        "2  2 NaN\n",

        "5  2   1\n",

        "6  2   0\n"

       ]

      },

      {

       "html": [

        "<div style=\"max-height:1000px;max-width:1500px;overflow:auto;\">\n",

        "<table border=\"1\" class=\"dataframe\">\n",

        "  <thead>\n",

        "    <tr style=\"text-align: right;\">\n",

        "      <th></th>\n",

        "      <th>A</th>\n",

        "      <th>B</th>\n",

        "    </tr>\n",

        "    <tr>\n",

        "      <th>A</th>\n",

        "      <th></th>\n",

        "      <th></th>\n",

        "    </tr>\n",

        "  </thead>\n",

        "  <tbody>\n",

        "    <tr>\n",

        "      <th>1</th>\n",

        "      <td> 3</td>\n",

        "      <td> 2</td>\n",

        "    </tr>\n",

        "    <tr>\n",

        "      <th>2</th>\n",

        "      <td> 4</td>\n",

        "      <td> 1</td>\n",

        "    </tr>\n",

        "  </tbody>\n",

        "</table>\n",

        "</div>"

       ],

       "metadata": {},

       "output_type": "pyout",

       "prompt_number": 75,

       "text": [

        "   A  B\n",

        "A      \n",

        "1  3  2\n",

        "2  4  1"

       ]

      }

     ],

     "prompt_number": 75

    },

    {

     "cell_type": "code",

     "collapsed": false,

     "input": [

      "# \u0421\u0442\u0440\u043e\u043a\u043e\u0432\u044b\u0435 \u043e\u043f\u0435\u0440\u0430\u0446\u0438\u0438\n",

      "s = pd.Series(['AbA', 'Sasha', 'DataMining']) # ( [] )\n",

      "s.str.lower()"

     ],

     "language": "python",

     "metadata": {},

     "outputs": [

      {

       "metadata": {},

       "output_type": "pyout",

       "prompt_number": 76,

       "text": [

        "0           aba\n",

        "1         sasha\n",

        "2    datamining\n",

        "dtype: object"

       ]

      }

     ],

     "prompt_number": 76

    },

    {

     "cell_type": "code",

     "collapsed": false,

     "input": [

      "# \u0438\u0435\u0440\u0430\u0440\u0445\u0438\u0447\u0435\u0441\u043a\u0430\u044f (\u043c\u043d\u043e\u0433\u043e\u0443\u0440\u043e\u0432\u043d\u0435\u0432\u0430\u044f) \u0438\u043d\u0434\u0435\u043a\u0441\u0430\u0446\u0438\u044f\n",

      "tuples = list(zip(*[['bar', 'bar', 'baz', 'baz',\n",

      "'foo', 'foo', 'qux', 'qux'],\n",

      " ['one', 'two', 'one', 'two',\n",

      "'one', 'two', 'one', 'two']]))\n",

      "print tuples\n",

      "\n",

      "index = pd.MultiIndex.from_tuples(tuples, names=['first', 'second'])\n",

      "print index\n",

      "index\n",

      "\n",

      "df = pd.DataFrame(np.random.randn(8, 2), index=index, columns=['A', 'B'])\n",

      "print df\n",

      "\n",

      "print df.stack() # \u043e\u0431\u0440\u0430\u0442\u043d\u0430\u044f \u043e\u043f\u0435\u0440\u0430\u0446\u0438\u044f unstack()"

     ],

     "language": "python",

     "metadata": {},

     "outputs": [

      {

       "output_type": "stream",

       "stream": "stdout",

       "text": [

        "[('bar', 'one'), ('bar', 'two'), ('baz', 'one'), ('baz', 'two'), ('foo', 'one'), ('foo', 'two'), ('qux', 'one'), ('qux', 'two')]\n",

        "first  second\n",

        "bar    one   \n",

        "       two   \n",

        "baz    one   \n",

        "       two   \n",

        "foo    one   \n",

        "       two   \n",

        "qux    one   \n",

        "       two   \n",

        "                     A         B\n",

        "first second                    \n",

        "bar   one    -0.240469 -0.533312\n",

        "      two    -0.847305  0.845316\n",

        "baz   one     0.274592  0.473476\n",

        "      two     1.433575 -0.977992\n",

        "foo   one     0.957252 -1.246396\n",

        "      two    -2.821039 -0.625924\n",

        "qux   one     0.086683 -0.450850\n",

        "      two    -1.236494  0.706156\n",

        "first  second   \n",

        "bar    one     A   -0.240469\n",

        "               B   -0.533312\n",

        "       two     A   -0.847305\n",

        "               B    0.845316\n",

        "baz    one     A    0.274592\n",

        "               B    0.473476\n",

        "       two     A    1.433575\n",

        "               B   -0.977992\n",

        "foo    one     A    0.957252\n",

        "               B   -1.246396\n",

        "       two     A   -2.821039\n",

        "               B   -0.625924\n",

        "qux    one     A    0.086683\n",

        "               B   -0.450850\n",

        "       two     A   -1.236494\n",

        "               B    0.706156\n",

        "dtype: float64\n"

       ]

      }

     ],

     "prompt_number": 77

    },

    {

     "cell_type": "code",

     "collapsed": false,

     "input": [

      "# \u043f\u0430\u043d\u0435\u043b\u044c (3D-\u0434\u0430\u0442\u0430-\u0444\u0440\u0435\u0439\u043c)\n",

      "d = pd.DataFrame({'A': [1,2,2], 'B': [1,2,3]})\n",

      "d2, d3 = d.copy(), d.copy()\n",

      "p = pd.Panel({'df1':d, 'df2':d2, 'df3':d3})\n",

      "p = p.transpose(2,0,1)\n",

      "print p['A']\n",

      "p"

     ],

     "language": "python",

     "metadata": {},

     "outputs": [

      {

       "output_type": "stream",

       "stream": "stdout",

       "text": [

        "     0  1  2\n",

        "df1  1  2  2\n",

        "df2  1  2  2\n",

        "df3  1  2  2\n"

       ]

      },

      {

       "metadata": {},

       "output_type": "pyout",

       "prompt_number": 41,

       "text": [

        "<class 'pandas.core.panel.Panel'>\n",

        "Dimensions: 2 (items) x 3 (major_axis) x 3 (minor_axis)\n",

        "Items axis: A to B\n",

        "Major_axis axis: df1 to df3\n",

        "Minor_axis axis: 0 to 2"

       ]

      }

     ],

     "prompt_number": 41

    },

    {

     "cell_type": "code",

     "collapsed": false,

     "input": [

      "# \u0433\u0440\u0430\u0444\u0438\u043a\u0430\n",

      "d = pd.DataFrame({\"IQ\": [1,4,3,2]})\n",

      "d.index = ['man', 'woman', 'dog', 'cat']\n",

      "d.plot(kind='barh')"

     ],

     "language": "python",

     "metadata": {},

     "outputs": [

      {

       "metadata": {},

       "output_type": "pyout",

       "prompt_number": 78,

       "text": [

        "<matplotlib.axes.AxesSubplot at 0xb28fcf8>"

       ]

      },

      {

       "metadata": {},

       "output_type": "display_data",

       "png": "[encoded data removed]",

       "text": [

        "<matplotlib.figure.Figure at 0xb2d2908>"

       ]

      }

     ],

     "prompt_number": 78

    },

    {

     "cell_type": "code",

     "collapsed": false,

     "input": [

      "# \u0441\u043e\u0437\u0434\u0430\u043d\u0438\u0435 \u043a\u0430\u0442\u0435\u0433\u043e\u0440\u0438\u0430\u043b\u044c\u043d\u043e\u0433\u043e \u043f\u0440\u0438\u0437\u043d\u0430\u043a\u0430 = \u0438\u043d\u0442\u0435\u0440\u0432\u0430\u043b\u044b \u043f\u043e\u043f\u0430\u0434\u0430\u043d\u0438\u0439\n",

      "x = np.random.randn(10000)\n",

      "y  = pd.cut(x,10)\n",

      "z = pd.value_counts(y)\n",

      "z.plot(figsize=(20,3))\n",

      "pd.DataFrame(x).plot(kind='kde')\n",

      "pd.DataFrame(z).T"

     ],

     "language": "python",

     "metadata": {},

     "outputs": [

      {

       "html": [

        "<div style=\"max-height:1000px;max-width:1500px;overflow:auto;\">\n",

        "<table border=\"1\" class=\"dataframe\">\n",

        "  <thead>\n",

        "    <tr style=\"text-align: right;\">\n",

        "      <th></th>\n",

        "      <th>(-0.211, 0.629]</th>\n",

        "      <th>(-1.0502, -0.211]</th>\n",

        "      <th>(0.629, 1.468]</th>\n",

        "      <th>(-1.89, -1.0502]</th>\n",

        "      <th>(1.468, 2.308]</th>\n",

        "      <th>(-2.729, -1.89]</th>\n",

        "      <th>(2.308, 3.147]</th>\n",

        "      <th>(-3.569, -2.729]</th>\n",

        "      <th>(3.147, 3.987]</th>\n",

        "      <th>(-4.417, -3.569]</th>\n",

        "    </tr>\n",

        "  </thead>\n",

        "  <tbody>\n",

        "    <tr>\n",

        "      <th>0</th>\n",

        "      <td> 3247</td>\n",

        "      <td> 2638</td>\n",

        "      <td> 1921</td>\n",

        "      <td> 1192</td>\n",

        "      <td> 634</td>\n",

        "      <td> 226</td>\n",

        "      <td> 102</td>\n",

        "      <td> 32</td>\n",

        "      <td> 6</td>\n",

        "      <td> 2</td>\n",

        "    </tr>\n",

        "  </tbody>\n",

        "</table>\n",

        "</div>"

       ],

       "metadata": {},

       "output_type": "pyout",

       "prompt_number": 79,

       "text": [

        "   (-0.211, 0.629]  (-1.0502, -0.211]  (0.629, 1.468]  (-1.89, -1.0502]  \\\n",

        "0             3247               2638            1921              1192   \n",

        "\n",

        "   (1.468, 2.308]  (-2.729, -1.89]  (2.308, 3.147]  (-3.569, -2.729]  \\\n",

        "0             634              226             102                32   \n",

        "\n",

        "   (3.147, 3.987]  (-4.417, -3.569]  \n",

        "0               6                 2  "

       ]

      },

      {

       "metadata": {},

       "output_type": "display_data",

       "png": "[encoded data removed]",

       "text": [

        "<matplotlib.figure.Figure at 0xc199cf8>"

       ]

      },

      {

       "metadata": {},

       "output_type": "display_data",

       "png": "[encoded data removed]",

       "text": [

        "<matplotlib.figure.Figure at 0xc199438>"

       ]

      }

     ],

     "prompt_number": 79

    },

    {

     "cell_type": "code",

     "collapsed": false,

     "input": [

      "#???\n",

      "# \u043a\u0430\u0442\u0435\u0433\u043e\u0440\u043d\u044b\u0439 \u0442\u0438\u043f (new)\n",

      "tmp = dict([('A',[1, 1, 2, 2]), ('B',[1., 2., 1., 2.])]) # \u0435\u0449\u0451 \u043e\u0434\u0438\u043d \u0441\u043f\u043e\u0441\u043e\u0431\n",

      "df = pd.DataFrame(tmp)\n",

      "df['A'] = df['A'].astype('category') # \u043f\u0440\u0435\u043e\u0431\u0440\u0430\u0437\u043e\u0432\u0430\u043d\u0438\u0435 \u0432 \u043a\u0430\u0442\u0435\u0433\u043e\u0440\u043d\u044b\u0439 \u0442\u0438\u043f\n",

      "print df['A'].cat.categories\n",

      "df"

     ],

     "language": "python",

     "metadata": {},

     "outputs": []

    }

   ],

   "metadata": {}

  }

 ]

}
